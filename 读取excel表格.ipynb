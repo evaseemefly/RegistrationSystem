{
 "cells": [
  {
   "cell_type": "code",
   "execution_count": 32,
   "metadata": {
    "collapsed": true
   },
   "outputs": [],
   "source": [
    "import xlrd\n",
    "import os\n",
    "from pandas import Series,DataFrame\n",
    "import numpy as np\n",
    "import pandas as pd"
   ]
  },
  {
   "cell_type": "code",
   "execution_count": 33,
   "metadata": {
    "collapsed": false
   },
   "outputs": [],
   "source": [
    "file_name='data/convert_2.xlsx'\n",
    "read_data=pd.read_excel(file_name,sheetname=0)"
   ]
  },
  {
   "cell_type": "code",
   "execution_count": 34,
   "metadata": {
    "collapsed": false
   },
   "outputs": [
    {
     "data": {
      "text/html": [
       "<div>\n",
       "<table border=\"1\" class=\"dataframe\">\n",
       "  <thead>\n",
       "    <tr style=\"text-align: right;\">\n",
       "      <th></th>\n",
       "      <th>年  月  日</th>\n",
       "      <th>风暴潮组</th>\n",
       "      <th>海浪组</th>\n",
       "      <th>海浪组.1</th>\n",
       "      <th>海浪组.2</th>\n",
       "      <th>海冰组</th>\n",
       "      <th>海冰组.1</th>\n",
       "    </tr>\n",
       "  </thead>\n",
       "  <tbody>\n",
       "    <tr>\n",
       "      <th>0</th>\n",
       "      <td>NaT</td>\n",
       "      <td>NaN</td>\n",
       "      <td>主班</td>\n",
       "      <td>副班</td>\n",
       "      <td>警报班</td>\n",
       "      <td>主班</td>\n",
       "      <td>副班</td>\n",
       "    </tr>\n",
       "    <tr>\n",
       "      <th>1</th>\n",
       "      <td>2017-12-01</td>\n",
       "      <td>刘秋兴</td>\n",
       "      <td>韦锋余</td>\n",
       "      <td>徐瑞</td>\n",
       "      <td>王娟娟</td>\n",
       "      <td>唐茂宁</td>\n",
       "      <td>刘琼</td>\n",
       "    </tr>\n",
       "    <tr>\n",
       "      <th>2</th>\n",
       "      <td>2017-12-02</td>\n",
       "      <td>刘秋兴</td>\n",
       "      <td>邢闯</td>\n",
       "      <td>韦锋余</td>\n",
       "      <td>徐瑞</td>\n",
       "      <td>唐茂宁</td>\n",
       "      <td>刘琼</td>\n",
       "    </tr>\n",
       "    <tr>\n",
       "      <th>3</th>\n",
       "      <td>2017-12-03</td>\n",
       "      <td>刘秋兴</td>\n",
       "      <td>侯放</td>\n",
       "      <td>邢闯</td>\n",
       "      <td>韦锋余</td>\n",
       "      <td>唐茂宁</td>\n",
       "      <td>刘琼</td>\n",
       "    </tr>\n",
       "    <tr>\n",
       "      <th>4</th>\n",
       "      <td>2017-12-04</td>\n",
       "      <td>梁森栋</td>\n",
       "      <td>高志一</td>\n",
       "      <td>侯放</td>\n",
       "      <td>邢闯</td>\n",
       "      <td>唐茂宁</td>\n",
       "      <td>刘琼</td>\n",
       "    </tr>\n",
       "  </tbody>\n",
       "</table>\n",
       "</div>"
      ],
      "text/plain": [
       "     年  月  日 风暴潮组  海浪组 海浪组.1 海浪组.2  海冰组 海冰组.1\n",
       "0        NaT  NaN   主班    副班   警报班   主班    副班\n",
       "1 2017-12-01  刘秋兴  韦锋余    徐瑞   王娟娟  唐茂宁    刘琼\n",
       "2 2017-12-02  刘秋兴   邢闯   韦锋余    徐瑞  唐茂宁    刘琼\n",
       "3 2017-12-03  刘秋兴   侯放    邢闯   韦锋余  唐茂宁    刘琼\n",
       "4 2017-12-04  梁森栋  高志一    侯放    邢闯  唐茂宁    刘琼"
      ]
     },
     "execution_count": 34,
     "metadata": {},
     "output_type": "execute_result"
    }
   ],
   "source": [
    "read_data.head()"
   ]
  },
  {
   "cell_type": "markdown",
   "metadata": {},
   "source": [
    "* 读取行标题"
   ]
  },
  {
   "cell_type": "code",
   "execution_count": 26,
   "metadata": {
    "collapsed": false
   },
   "outputs": [
    {
     "data": {
      "text/plain": [
       "['年  月  日', '风暴潮组', '海浪组', 'Unnamed: 3', 'Unnamed: 4', '海冰组', 'Unnamed: 6']"
      ]
     },
     "execution_count": 26,
     "metadata": {},
     "output_type": "execute_result"
    }
   ],
   "source": [
    "read_data.columns.tolist()"
   ]
  },
  {
   "cell_type": "markdown",
   "metadata": {},
   "source": [
    "* 读取第一行"
   ]
  },
  {
   "cell_type": "code",
   "execution_count": 31,
   "metadata": {
    "collapsed": false
   },
   "outputs": [
    {
     "data": {
      "text/html": [
       "<div>\n",
       "<table border=\"1\" class=\"dataframe\">\n",
       "  <thead>\n",
       "    <tr style=\"text-align: right;\">\n",
       "      <th></th>\n",
       "      <th>年  月  日</th>\n",
       "      <th>风暴潮组</th>\n",
       "      <th>海浪组</th>\n",
       "      <th>Unnamed: 3</th>\n",
       "      <th>Unnamed: 4</th>\n",
       "      <th>海冰组</th>\n",
       "      <th>Unnamed: 6</th>\n",
       "    </tr>\n",
       "  </thead>\n",
       "  <tbody>\n",
       "    <tr>\n",
       "      <th>0</th>\n",
       "      <td>NaT</td>\n",
       "      <td>NaN</td>\n",
       "      <td>主班</td>\n",
       "      <td>副班</td>\n",
       "      <td>警报班</td>\n",
       "      <td>主班</td>\n",
       "      <td>副班</td>\n",
       "    </tr>\n",
       "  </tbody>\n",
       "</table>\n",
       "</div>"
      ],
      "text/plain": [
       "  年  月  日 风暴潮组 海浪组 Unnamed: 3 Unnamed: 4 海冰组 Unnamed: 6\n",
       "0     NaT  NaN  主班         副班        警报班  主班         副班"
      ]
     },
     "execution_count": 31,
     "metadata": {},
     "output_type": "execute_result"
    }
   ],
   "source": [
    "# 会出错 KeyError: 1\n",
    "# read_data[1]\n",
    "read_data[:1]"
   ]
  },
  {
   "cell_type": "markdown",
   "metadata": {
    "collapsed": true
   },
   "source": [
    "#### 转换日期"
   ]
  },
  {
   "cell_type": "code",
   "execution_count": 20,
   "metadata": {
    "collapsed": true
   },
   "outputs": [],
   "source": [
    "import time"
   ]
  },
  {
   "cell_type": "code",
   "execution_count": 21,
   "metadata": {
    "collapsed": false
   },
   "outputs": [
    {
     "data": {
      "text/plain": [
       "time.struct_time(tm_year=1970, tm_mon=1, tm_mday=1, tm_hour=11, tm_min=57, tm_sec=52, tm_wday=3, tm_yday=1, tm_isdst=0)"
      ]
     },
     "execution_count": 21,
     "metadata": {},
     "output_type": "execute_result"
    }
   ],
   "source": [
    "time.gmtime(43072.0)"
   ]
  },
  {
   "cell_type": "code",
   "execution_count": 22,
   "metadata": {
    "collapsed": false
   },
   "outputs": [
    {
     "data": {
      "text/plain": [
       "129712.0"
      ]
     },
     "execution_count": 22,
     "metadata": {},
     "output_type": "execute_result"
    }
   ],
   "source": [
    "targetdate=86640+43072.0\n",
    "targetdate"
   ]
  },
  {
   "cell_type": "code",
   "execution_count": 23,
   "metadata": {
    "collapsed": false
   },
   "outputs": [
    {
     "data": {
      "text/plain": [
       "time.struct_time(tm_year=1970, tm_mon=1, tm_mday=2, tm_hour=12, tm_min=1, tm_sec=52, tm_wday=4, tm_yday=2, tm_isdst=0)"
      ]
     },
     "execution_count": 23,
     "metadata": {},
     "output_type": "execute_result"
    }
   ],
   "source": [
    "time.gmtime(targetdate)"
   ]
  },
  {
   "cell_type": "code",
   "execution_count": null,
   "metadata": {
    "collapsed": true
   },
   "outputs": [],
   "source": []
  }
 ],
 "metadata": {
  "kernelspec": {
   "display_name": "Python 3",
   "language": "python",
   "name": "python3"
  },
  "language_info": {
   "codemirror_mode": {
    "name": "ipython",
    "version": 3
   },
   "file_extension": ".py",
   "mimetype": "text/x-python",
   "name": "python",
   "nbconvert_exporter": "python",
   "pygments_lexer": "ipython3",
   "version": "3.6.0"
  }
 },
 "nbformat": 4,
 "nbformat_minor": 2
}
