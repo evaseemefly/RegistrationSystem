{
 "cells": [
  {
   "cell_type": "code",
   "execution_count": 2,
   "metadata": {
    "collapsed": true
   },
   "outputs": [],
   "source": [
    "import xlrd\n",
    "import os\n",
    "from pandas import Series,DataFrame\n",
    "import numpy as np\n",
    "import pandas as pd\n",
    "import datetime"
   ]
  },
  {
   "cell_type": "markdown",
   "metadata": {},
   "source": [
    "#### 1、通过header=None的方式读取excel"
   ]
  },
  {
   "cell_type": "code",
   "execution_count": 5,
   "metadata": {},
   "outputs": [],
   "source": [
    "file_name='data/convert_2.xlsx'\n",
    "read_data=pd.read_excel(file_name,sheetname=0,header=None)"
   ]
  },
  {
   "cell_type": "code",
   "execution_count": 6,
   "metadata": {},
   "outputs": [
    {
     "data": {
      "text/html": [
       "<div>\n",
       "<table border=\"1\" class=\"dataframe\">\n",
       "  <thead>\n",
       "    <tr style=\"text-align: right;\">\n",
       "      <th></th>\n",
       "      <th>0</th>\n",
       "      <th>1</th>\n",
       "      <th>2</th>\n",
       "      <th>3</th>\n",
       "      <th>4</th>\n",
       "      <th>5</th>\n",
       "      <th>6</th>\n",
       "    </tr>\n",
       "  </thead>\n",
       "  <tbody>\n",
       "    <tr>\n",
       "      <th>0</th>\n",
       "      <td>年  月  日</td>\n",
       "      <td>风暴潮组</td>\n",
       "      <td>海浪组</td>\n",
       "      <td>海浪组</td>\n",
       "      <td>海浪组</td>\n",
       "      <td>海冰组</td>\n",
       "      <td>海冰组</td>\n",
       "    </tr>\n",
       "    <tr>\n",
       "      <th>1</th>\n",
       "      <td>NaN</td>\n",
       "      <td>主班</td>\n",
       "      <td>主班</td>\n",
       "      <td>副班</td>\n",
       "      <td>警报班</td>\n",
       "      <td>主班</td>\n",
       "      <td>主班</td>\n",
       "    </tr>\n",
       "    <tr>\n",
       "      <th>2</th>\n",
       "      <td>2017-12-01 00:00:00</td>\n",
       "      <td>刘秋兴</td>\n",
       "      <td>韦锋余</td>\n",
       "      <td>徐瑞</td>\n",
       "      <td>王娟娟</td>\n",
       "      <td>唐茂宁</td>\n",
       "      <td>刘琼</td>\n",
       "    </tr>\n",
       "    <tr>\n",
       "      <th>3</th>\n",
       "      <td>2017-12-02 00:00:00</td>\n",
       "      <td>刘秋兴</td>\n",
       "      <td>邢闯</td>\n",
       "      <td>韦锋余</td>\n",
       "      <td>徐瑞</td>\n",
       "      <td>唐茂宁</td>\n",
       "      <td>刘琼</td>\n",
       "    </tr>\n",
       "    <tr>\n",
       "      <th>4</th>\n",
       "      <td>2017-12-03 00:00:00</td>\n",
       "      <td>刘秋兴</td>\n",
       "      <td>侯放</td>\n",
       "      <td>邢闯</td>\n",
       "      <td>韦锋余</td>\n",
       "      <td>唐茂宁</td>\n",
       "      <td>刘琼</td>\n",
       "    </tr>\n",
       "  </tbody>\n",
       "</table>\n",
       "</div>"
      ],
      "text/plain": [
       "                     0     1    2    3    4    5    6\n",
       "0              年  月  日  风暴潮组  海浪组  海浪组  海浪组  海冰组  海冰组\n",
       "1                  NaN    主班   主班   副班  警报班   主班   主班\n",
       "2  2017-12-01 00:00:00   刘秋兴  韦锋余   徐瑞  王娟娟  唐茂宁   刘琼\n",
       "3  2017-12-02 00:00:00   刘秋兴   邢闯  韦锋余   徐瑞  唐茂宁   刘琼\n",
       "4  2017-12-03 00:00:00   刘秋兴   侯放   邢闯  韦锋余  唐茂宁   刘琼"
      ]
     },
     "execution_count": 6,
     "metadata": {},
     "output_type": "execute_result"
    }
   ],
   "source": [
    "read_data.head()"
   ]
  },
  {
   "cell_type": "code",
   "execution_count": 7,
   "metadata": {},
   "outputs": [
    {
     "data": {
      "text/html": [
       "<div>\n",
       "<table border=\"1\" class=\"dataframe\">\n",
       "  <thead>\n",
       "    <tr style=\"text-align: right;\">\n",
       "      <th></th>\n",
       "      <th>0</th>\n",
       "      <th>1</th>\n",
       "      <th>2</th>\n",
       "    </tr>\n",
       "  </thead>\n",
       "  <tbody>\n",
       "    <tr>\n",
       "      <th>0</th>\n",
       "      <td>0</td>\n",
       "      <td>1</td>\n",
       "      <td>2</td>\n",
       "    </tr>\n",
       "    <tr>\n",
       "      <th>1</th>\n",
       "      <td>3</td>\n",
       "      <td>4</td>\n",
       "      <td>5</td>\n",
       "    </tr>\n",
       "  </tbody>\n",
       "</table>\n",
       "</div>"
      ],
      "text/plain": [
       "   0  1  2\n",
       "0  0  1  2\n",
       "1  3  4  5"
      ]
     },
     "execution_count": 7,
     "metadata": {},
     "output_type": "execute_result"
    }
   ],
   "source": [
    "test_data=pd.DataFrame(np.arange(6).reshape(2,3))\n",
    "test_data"
   ]
  },
  {
   "cell_type": "markdown",
   "metadata": {},
   "source": [
    "* 读取行标题"
   ]
  },
  {
   "cell_type": "code",
   "execution_count": 8,
   "metadata": {},
   "outputs": [
    {
     "data": {
      "text/plain": [
       "[0, 1, 2, 3, 4, 5, 6]"
      ]
     },
     "execution_count": 8,
     "metadata": {},
     "output_type": "execute_result"
    }
   ],
   "source": [
    "read_data.columns.tolist()"
   ]
  },
  {
   "cell_type": "markdown",
   "metadata": {},
   "source": [
    "#### 1.1 去掉第一列，取剩下的前两行"
   ]
  },
  {
   "cell_type": "code",
   "execution_count": 9,
   "metadata": {},
   "outputs": [
    {
     "data": {
      "text/html": [
       "<div>\n",
       "<table border=\"1\" class=\"dataframe\">\n",
       "  <thead>\n",
       "    <tr style=\"text-align: right;\">\n",
       "      <th></th>\n",
       "      <th>0</th>\n",
       "      <th>1</th>\n",
       "      <th>2</th>\n",
       "      <th>3</th>\n",
       "      <th>4</th>\n",
       "      <th>5</th>\n",
       "      <th>6</th>\n",
       "    </tr>\n",
       "  </thead>\n",
       "  <tbody>\n",
       "    <tr>\n",
       "      <th>0</th>\n",
       "      <td>年  月  日</td>\n",
       "      <td>风暴潮组</td>\n",
       "      <td>海浪组</td>\n",
       "      <td>海浪组</td>\n",
       "      <td>海浪组</td>\n",
       "      <td>海冰组</td>\n",
       "      <td>海冰组</td>\n",
       "    </tr>\n",
       "    <tr>\n",
       "      <th>1</th>\n",
       "      <td>NaN</td>\n",
       "      <td>主班</td>\n",
       "      <td>主班</td>\n",
       "      <td>副班</td>\n",
       "      <td>警报班</td>\n",
       "      <td>主班</td>\n",
       "      <td>主班</td>\n",
       "    </tr>\n",
       "  </tbody>\n",
       "</table>\n",
       "</div>"
      ],
      "text/plain": [
       "         0     1    2    3    4    5    6\n",
       "0  年  月  日  风暴潮组  海浪组  海浪组  海浪组  海冰组  海冰组\n",
       "1      NaN    主班   主班   副班  警报班   主班   主班"
      ]
     },
     "execution_count": 9,
     "metadata": {},
     "output_type": "execute_result"
    }
   ],
   "source": [
    "# 会出错 KeyError: 1\n",
    "# read_data[1]\n",
    "read_data[:2]"
   ]
  },
  {
   "cell_type": "markdown",
   "metadata": {},
   "source": [
    "#### 1.2获取第一列起始至结束；第0行起始至第一行的数据"
   ]
  },
  {
   "cell_type": "code",
   "execution_count": 10,
   "metadata": {},
   "outputs": [
    {
     "data": {
      "text/html": [
       "<div>\n",
       "<table border=\"1\" class=\"dataframe\">\n",
       "  <thead>\n",
       "    <tr style=\"text-align: right;\">\n",
       "      <th></th>\n",
       "      <th>1</th>\n",
       "      <th>2</th>\n",
       "      <th>3</th>\n",
       "      <th>4</th>\n",
       "      <th>5</th>\n",
       "      <th>6</th>\n",
       "    </tr>\n",
       "  </thead>\n",
       "  <tbody>\n",
       "    <tr>\n",
       "      <th>0</th>\n",
       "      <td>风暴潮组</td>\n",
       "      <td>海浪组</td>\n",
       "      <td>海浪组</td>\n",
       "      <td>海浪组</td>\n",
       "      <td>海冰组</td>\n",
       "      <td>海冰组</td>\n",
       "    </tr>\n",
       "    <tr>\n",
       "      <th>1</th>\n",
       "      <td>主班</td>\n",
       "      <td>主班</td>\n",
       "      <td>副班</td>\n",
       "      <td>警报班</td>\n",
       "      <td>主班</td>\n",
       "      <td>主班</td>\n",
       "    </tr>\n",
       "  </tbody>\n",
       "</table>\n",
       "</div>"
      ],
      "text/plain": [
       "      1    2    3    4    5    6\n",
       "0  风暴潮组  海浪组  海浪组  海浪组  海冰组  海冰组\n",
       "1    主班   主班   副班  警报班   主班   主班"
      ]
     },
     "execution_count": 10,
     "metadata": {},
     "output_type": "execute_result"
    }
   ],
   "source": [
    "columns_names=read_data.iloc[0:2,1:]\n",
    "columns_names"
   ]
  },
  {
   "cell_type": "code",
   "execution_count": 11,
   "metadata": {},
   "outputs": [
    {
     "data": {
      "text/plain": [
       "6"
      ]
     },
     "execution_count": 11,
     "metadata": {},
     "output_type": "execute_result"
    }
   ],
   "source": [
    "columns_names.shape[1]"
   ]
  },
  {
   "cell_type": "code",
   "execution_count": 12,
   "metadata": {},
   "outputs": [
    {
     "data": {
      "text/plain": [
       "array([0, 1, 2, 3, 4, 5])"
      ]
     },
     "execution_count": 12,
     "metadata": {},
     "output_type": "execute_result"
    }
   ],
   "source": [
    "np.arange(columns_names.shape[1])"
   ]
  },
  {
   "cell_type": "markdown",
   "metadata": {},
   "source": [
    "#### 1.3 修改columns"
   ]
  },
  {
   "cell_type": "code",
   "execution_count": 27,
   "metadata": {
    "collapsed": true
   },
   "outputs": [],
   "source": [
    "columns_names.columns=np.arange(columns_names.shape[1])"
   ]
  },
  {
   "cell_type": "code",
   "execution_count": 28,
   "metadata": {},
   "outputs": [
    {
     "data": {
      "text/html": [
       "<div>\n",
       "<table border=\"1\" class=\"dataframe\">\n",
       "  <thead>\n",
       "    <tr style=\"text-align: right;\">\n",
       "      <th></th>\n",
       "      <th>0</th>\n",
       "      <th>1</th>\n",
       "      <th>2</th>\n",
       "      <th>3</th>\n",
       "      <th>4</th>\n",
       "      <th>5</th>\n",
       "    </tr>\n",
       "  </thead>\n",
       "  <tbody>\n",
       "    <tr>\n",
       "      <th>0</th>\n",
       "      <td>风暴潮组</td>\n",
       "      <td>海浪组</td>\n",
       "      <td>海浪组</td>\n",
       "      <td>海浪组</td>\n",
       "      <td>海冰组</td>\n",
       "      <td>海冰组</td>\n",
       "    </tr>\n",
       "    <tr>\n",
       "      <th>1</th>\n",
       "      <td>主班</td>\n",
       "      <td>主班</td>\n",
       "      <td>副班</td>\n",
       "      <td>警报班</td>\n",
       "      <td>主班</td>\n",
       "      <td>主班</td>\n",
       "    </tr>\n",
       "  </tbody>\n",
       "</table>\n",
       "</div>"
      ],
      "text/plain": [
       "      0    1    2    3    4    5\n",
       "0  风暴潮组  海浪组  海浪组  海浪组  海冰组  海冰组\n",
       "1    主班   主班   副班  警报班   主班   主班"
      ]
     },
     "execution_count": 28,
     "metadata": {},
     "output_type": "execute_result"
    }
   ],
   "source": [
    "columns_names"
   ]
  },
  {
   "cell_type": "markdown",
   "metadata": {},
   "source": [
    "#### 在组名上面在加入一行室名"
   ]
  },
  {
   "cell_type": "code",
   "execution_count": 29,
   "metadata": {},
   "outputs": [
    {
     "data": {
      "text/html": [
       "<div>\n",
       "<table border=\"1\" class=\"dataframe\">\n",
       "  <thead>\n",
       "    <tr style=\"text-align: right;\">\n",
       "      <th></th>\n",
       "      <th>0</th>\n",
       "      <th>1</th>\n",
       "      <th>2</th>\n",
       "      <th>3</th>\n",
       "      <th>4</th>\n",
       "      <th>5</th>\n",
       "    </tr>\n",
       "  </thead>\n",
       "  <tbody>\n",
       "    <tr>\n",
       "      <th>2</th>\n",
       "      <td>NaN</td>\n",
       "      <td>NaN</td>\n",
       "      <td>NaN</td>\n",
       "      <td>NaN</td>\n",
       "      <td>NaN</td>\n",
       "      <td>NaN</td>\n",
       "    </tr>\n",
       "  </tbody>\n",
       "</table>\n",
       "</div>"
      ],
      "text/plain": [
       "     0    1    2    3    4    5\n",
       "2  NaN  NaN  NaN  NaN  NaN  NaN"
      ]
     },
     "execution_count": 29,
     "metadata": {},
     "output_type": "execute_result"
    }
   ],
   "source": [
    "columns_department=pd.DataFrame(columns=columns_names.columns,index=[2])\n",
    "columns_department"
   ]
  },
  {
   "cell_type": "markdown",
   "metadata": {},
   "source": [
    "* 将columns_names与columns_department合并"
   ]
  },
  {
   "cell_type": "code",
   "execution_count": 30,
   "metadata": {},
   "outputs": [
    {
     "data": {
      "text/html": [
       "<div>\n",
       "<table border=\"1\" class=\"dataframe\">\n",
       "  <thead>\n",
       "    <tr style=\"text-align: right;\">\n",
       "      <th></th>\n",
       "      <th>0</th>\n",
       "      <th>1</th>\n",
       "      <th>2</th>\n",
       "      <th>3</th>\n",
       "      <th>4</th>\n",
       "      <th>5</th>\n",
       "    </tr>\n",
       "  </thead>\n",
       "  <tbody>\n",
       "    <tr>\n",
       "      <th>0</th>\n",
       "      <td>风暴潮组</td>\n",
       "      <td>海浪组</td>\n",
       "      <td>海浪组</td>\n",
       "      <td>海浪组</td>\n",
       "      <td>海冰组</td>\n",
       "      <td>海冰组</td>\n",
       "    </tr>\n",
       "    <tr>\n",
       "      <th>1</th>\n",
       "      <td>主班</td>\n",
       "      <td>主班</td>\n",
       "      <td>副班</td>\n",
       "      <td>警报班</td>\n",
       "      <td>主班</td>\n",
       "      <td>主班</td>\n",
       "    </tr>\n",
       "    <tr>\n",
       "      <th>2</th>\n",
       "      <td>NaN</td>\n",
       "      <td>NaN</td>\n",
       "      <td>NaN</td>\n",
       "      <td>NaN</td>\n",
       "      <td>NaN</td>\n",
       "      <td>NaN</td>\n",
       "    </tr>\n",
       "  </tbody>\n",
       "</table>\n",
       "</div>"
      ],
      "text/plain": [
       "      0    1    2    3    4    5\n",
       "0  风暴潮组  海浪组  海浪组  海浪组  海冰组  海冰组\n",
       "1    主班   主班   副班  警报班   主班   主班\n",
       "2   NaN  NaN  NaN  NaN  NaN  NaN"
      ]
     },
     "execution_count": 30,
     "metadata": {},
     "output_type": "execute_result"
    }
   ],
   "source": [
    "columns_newmerage=pd.merge(columns_names,columns_department,how='outer')\n",
    "columns_newmerage"
   ]
  },
  {
   "cell_type": "markdown",
   "metadata": {},
   "source": [
    "* 调整位置，将2前移至0处  \n",
    "不要使用reindex，直接通过为index赋值即可"
   ]
  },
  {
   "cell_type": "code",
   "execution_count": 31,
   "metadata": {},
   "outputs": [
    {
     "data": {
      "text/html": [
       "<div>\n",
       "<table border=\"1\" class=\"dataframe\">\n",
       "  <thead>\n",
       "    <tr style=\"text-align: right;\">\n",
       "      <th></th>\n",
       "      <th>0</th>\n",
       "      <th>1</th>\n",
       "      <th>2</th>\n",
       "      <th>3</th>\n",
       "      <th>4</th>\n",
       "      <th>5</th>\n",
       "    </tr>\n",
       "  </thead>\n",
       "  <tbody>\n",
       "    <tr>\n",
       "      <th>1</th>\n",
       "      <td>主班</td>\n",
       "      <td>主班</td>\n",
       "      <td>副班</td>\n",
       "      <td>警报班</td>\n",
       "      <td>主班</td>\n",
       "      <td>主班</td>\n",
       "    </tr>\n",
       "    <tr>\n",
       "      <th>2</th>\n",
       "      <td>NaN</td>\n",
       "      <td>NaN</td>\n",
       "      <td>NaN</td>\n",
       "      <td>NaN</td>\n",
       "      <td>NaN</td>\n",
       "      <td>NaN</td>\n",
       "    </tr>\n",
       "    <tr>\n",
       "      <th>0</th>\n",
       "      <td>风暴潮组</td>\n",
       "      <td>海浪组</td>\n",
       "      <td>海浪组</td>\n",
       "      <td>海浪组</td>\n",
       "      <td>海冰组</td>\n",
       "      <td>海冰组</td>\n",
       "    </tr>\n",
       "  </tbody>\n",
       "</table>\n",
       "</div>"
      ],
      "text/plain": [
       "      0    1    2    3    4    5\n",
       "1    主班   主班   副班  警报班   主班   主班\n",
       "2   NaN  NaN  NaN  NaN  NaN  NaN\n",
       "0  风暴潮组  海浪组  海浪组  海浪组  海冰组  海冰组"
      ]
     },
     "execution_count": 31,
     "metadata": {},
     "output_type": "execute_result"
    }
   ],
   "source": [
    "columns_newmerage.reindex([1,2,0])"
   ]
  },
  {
   "cell_type": "code",
   "execution_count": 33,
   "metadata": {},
   "outputs": [
    {
     "data": {
      "text/html": [
       "<div>\n",
       "<table border=\"1\" class=\"dataframe\">\n",
       "  <thead>\n",
       "    <tr style=\"text-align: right;\">\n",
       "      <th></th>\n",
       "      <th>0</th>\n",
       "      <th>1</th>\n",
       "      <th>2</th>\n",
       "      <th>3</th>\n",
       "      <th>4</th>\n",
       "      <th>5</th>\n",
       "    </tr>\n",
       "  </thead>\n",
       "  <tbody>\n",
       "    <tr>\n",
       "      <th>1</th>\n",
       "      <td>风暴潮组</td>\n",
       "      <td>海浪组</td>\n",
       "      <td>海浪组</td>\n",
       "      <td>海浪组</td>\n",
       "      <td>海冰组</td>\n",
       "      <td>海冰组</td>\n",
       "    </tr>\n",
       "    <tr>\n",
       "      <th>2</th>\n",
       "      <td>主班</td>\n",
       "      <td>主班</td>\n",
       "      <td>副班</td>\n",
       "      <td>警报班</td>\n",
       "      <td>主班</td>\n",
       "      <td>主班</td>\n",
       "    </tr>\n",
       "    <tr>\n",
       "      <th>0</th>\n",
       "      <td>NaN</td>\n",
       "      <td>NaN</td>\n",
       "      <td>NaN</td>\n",
       "      <td>NaN</td>\n",
       "      <td>NaN</td>\n",
       "      <td>NaN</td>\n",
       "    </tr>\n",
       "  </tbody>\n",
       "</table>\n",
       "</div>"
      ],
      "text/plain": [
       "      0    1    2    3    4    5\n",
       "1  风暴潮组  海浪组  海浪组  海浪组  海冰组  海冰组\n",
       "2    主班   主班   副班  警报班   主班   主班\n",
       "0   NaN  NaN  NaN  NaN  NaN  NaN"
      ]
     },
     "execution_count": 33,
     "metadata": {},
     "output_type": "execute_result"
    }
   ],
   "source": [
    "columns_newmerage.index=[1,2,0]\n",
    "columns_newmerage"
   ]
  },
  {
   "cell_type": "markdown",
   "metadata": {},
   "source": [
    "* 重新排序  \n",
    "使用sort_index会重新返回一个新的df，而不是在原有的df基础上进行修改"
   ]
  },
  {
   "cell_type": "code",
   "execution_count": 36,
   "metadata": {},
   "outputs": [
    {
     "data": {
      "text/html": [
       "<div>\n",
       "<table border=\"1\" class=\"dataframe\">\n",
       "  <thead>\n",
       "    <tr style=\"text-align: right;\">\n",
       "      <th></th>\n",
       "      <th>0</th>\n",
       "      <th>1</th>\n",
       "      <th>2</th>\n",
       "      <th>3</th>\n",
       "      <th>4</th>\n",
       "      <th>5</th>\n",
       "    </tr>\n",
       "  </thead>\n",
       "  <tbody>\n",
       "    <tr>\n",
       "      <th>0</th>\n",
       "      <td>NaN</td>\n",
       "      <td>NaN</td>\n",
       "      <td>NaN</td>\n",
       "      <td>NaN</td>\n",
       "      <td>NaN</td>\n",
       "      <td>NaN</td>\n",
       "    </tr>\n",
       "    <tr>\n",
       "      <th>1</th>\n",
       "      <td>风暴潮组</td>\n",
       "      <td>海浪组</td>\n",
       "      <td>海浪组</td>\n",
       "      <td>海浪组</td>\n",
       "      <td>海冰组</td>\n",
       "      <td>海冰组</td>\n",
       "    </tr>\n",
       "    <tr>\n",
       "      <th>2</th>\n",
       "      <td>主班</td>\n",
       "      <td>主班</td>\n",
       "      <td>副班</td>\n",
       "      <td>警报班</td>\n",
       "      <td>主班</td>\n",
       "      <td>主班</td>\n",
       "    </tr>\n",
       "  </tbody>\n",
       "</table>\n",
       "</div>"
      ],
      "text/plain": [
       "      0    1    2    3    4    5\n",
       "0   NaN  NaN  NaN  NaN  NaN  NaN\n",
       "1  风暴潮组  海浪组  海浪组  海浪组  海冰组  海冰组\n",
       "2    主班   主班   副班  警报班   主班   主班"
      ]
     },
     "execution_count": 36,
     "metadata": {},
     "output_type": "execute_result"
    }
   ],
   "source": [
    "columns_newmerage=columns_newmerage.sort_index()\n",
    "columns_newmerage"
   ]
  },
  {
   "cell_type": "markdown",
   "metadata": {},
   "source": [
    "* Nan不能通过==np.nan的方式判断是否为空\n",
    "* 只能通过is np.nan的方式"
   ]
  },
  {
   "cell_type": "markdown",
   "metadata": {},
   "source": [
    "#### 1.4为所有的nan值填充默认值（此处为指定一个值），以后改为文件名中的室名称"
   ]
  },
  {
   "cell_type": "code",
   "execution_count": 40,
   "metadata": {},
   "outputs": [
    {
     "data": {
      "text/html": [
       "<div>\n",
       "<table border=\"1\" class=\"dataframe\">\n",
       "  <thead>\n",
       "    <tr style=\"text-align: right;\">\n",
       "      <th></th>\n",
       "      <th>0</th>\n",
       "      <th>1</th>\n",
       "      <th>2</th>\n",
       "      <th>3</th>\n",
       "      <th>4</th>\n",
       "      <th>5</th>\n",
       "    </tr>\n",
       "  </thead>\n",
       "  <tbody>\n",
       "    <tr>\n",
       "      <th>0</th>\n",
       "      <td>预警室</td>\n",
       "      <td>预警室</td>\n",
       "      <td>预警室</td>\n",
       "      <td>预警室</td>\n",
       "      <td>预警室</td>\n",
       "      <td>预警室</td>\n",
       "    </tr>\n",
       "    <tr>\n",
       "      <th>1</th>\n",
       "      <td>风暴潮组</td>\n",
       "      <td>海浪组</td>\n",
       "      <td>海浪组</td>\n",
       "      <td>海浪组</td>\n",
       "      <td>海冰组</td>\n",
       "      <td>海冰组</td>\n",
       "    </tr>\n",
       "    <tr>\n",
       "      <th>2</th>\n",
       "      <td>主班</td>\n",
       "      <td>主班</td>\n",
       "      <td>副班</td>\n",
       "      <td>警报班</td>\n",
       "      <td>主班</td>\n",
       "      <td>主班</td>\n",
       "    </tr>\n",
       "  </tbody>\n",
       "</table>\n",
       "</div>"
      ],
      "text/plain": [
       "      0    1    2    3    4    5\n",
       "0   预警室  预警室  预警室  预警室  预警室  预警室\n",
       "1  风暴潮组  海浪组  海浪组  海浪组  海冰组  海冰组\n",
       "2    主班   主班   副班  警报班   主班   主班"
      ]
     },
     "execution_count": 40,
     "metadata": {},
     "output_type": "execute_result"
    }
   ],
   "source": [
    "nan_name='预警室'\n",
    "columns_newmerage=columns_newmerage.fillna(nan_name)\n",
    "columns_newmerage"
   ]
  },
  {
   "cell_type": "markdown",
   "metadata": {
    "collapsed": true
   },
   "source": [
    "#### 3 获取人员主体dataframe"
   ]
  },
  {
   "cell_type": "code",
   "execution_count": 49,
   "metadata": {},
   "outputs": [
    {
     "data": {
      "text/html": [
       "<div>\n",
       "<table border=\"1\" class=\"dataframe\">\n",
       "  <thead>\n",
       "    <tr style=\"text-align: right;\">\n",
       "      <th></th>\n",
       "      <th>0</th>\n",
       "      <th>1</th>\n",
       "      <th>2</th>\n",
       "      <th>3</th>\n",
       "      <th>4</th>\n",
       "      <th>5</th>\n",
       "      <th>6</th>\n",
       "    </tr>\n",
       "  </thead>\n",
       "  <tbody>\n",
       "    <tr>\n",
       "      <th>2</th>\n",
       "      <td>2017-12-01 00:00:00</td>\n",
       "      <td>刘秋兴</td>\n",
       "      <td>韦锋余</td>\n",
       "      <td>徐瑞</td>\n",
       "      <td>王娟娟</td>\n",
       "      <td>唐茂宁</td>\n",
       "      <td>刘琼</td>\n",
       "    </tr>\n",
       "    <tr>\n",
       "      <th>3</th>\n",
       "      <td>2017-12-02 00:00:00</td>\n",
       "      <td>刘秋兴</td>\n",
       "      <td>邢闯</td>\n",
       "      <td>韦锋余</td>\n",
       "      <td>徐瑞</td>\n",
       "      <td>唐茂宁</td>\n",
       "      <td>刘琼</td>\n",
       "    </tr>\n",
       "    <tr>\n",
       "      <th>4</th>\n",
       "      <td>2017-12-03 00:00:00</td>\n",
       "      <td>刘秋兴</td>\n",
       "      <td>侯放</td>\n",
       "      <td>邢闯</td>\n",
       "      <td>韦锋余</td>\n",
       "      <td>唐茂宁</td>\n",
       "      <td>刘琼</td>\n",
       "    </tr>\n",
       "    <tr>\n",
       "      <th>5</th>\n",
       "      <td>2017-12-04 00:00:00</td>\n",
       "      <td>梁森栋</td>\n",
       "      <td>高志一</td>\n",
       "      <td>侯放</td>\n",
       "      <td>邢闯</td>\n",
       "      <td>唐茂宁</td>\n",
       "      <td>刘琼</td>\n",
       "    </tr>\n",
       "    <tr>\n",
       "      <th>6</th>\n",
       "      <td>2017-12-05 00:00:00</td>\n",
       "      <td>梁森栋</td>\n",
       "      <td>王久珂</td>\n",
       "      <td>高志一</td>\n",
       "      <td>侯放</td>\n",
       "      <td>唐茂宁</td>\n",
       "      <td>刘琼</td>\n",
       "    </tr>\n",
       "  </tbody>\n",
       "</table>\n",
       "</div>"
      ],
      "text/plain": [
       "                     0    1    2    3    4    5   6\n",
       "2  2017-12-01 00:00:00  刘秋兴  韦锋余   徐瑞  王娟娟  唐茂宁  刘琼\n",
       "3  2017-12-02 00:00:00  刘秋兴   邢闯  韦锋余   徐瑞  唐茂宁  刘琼\n",
       "4  2017-12-03 00:00:00  刘秋兴   侯放   邢闯  韦锋余  唐茂宁  刘琼\n",
       "5  2017-12-04 00:00:00  梁森栋  高志一   侯放   邢闯  唐茂宁  刘琼\n",
       "6  2017-12-05 00:00:00  梁森栋  王久珂  高志一   侯放  唐茂宁  刘琼"
      ]
     },
     "execution_count": 49,
     "metadata": {},
     "output_type": "execute_result"
    }
   ],
   "source": [
    "read_data[2:-1].head()"
   ]
  },
  {
   "cell_type": "markdown",
   "metadata": {},
   "source": [
    "#### 3.1 获取时间索引"
   ]
  },
  {
   "cell_type": "code",
   "execution_count": 50,
   "metadata": {},
   "outputs": [
    {
     "data": {
      "text/plain": [
       "2    2017-12-01 00:00:00\n",
       "3    2017-12-02 00:00:00\n",
       "4    2017-12-03 00:00:00\n",
       "5    2017-12-04 00:00:00\n",
       "6    2017-12-05 00:00:00\n",
       "Name: 0, dtype: object"
      ]
     },
     "execution_count": 50,
     "metadata": {},
     "output_type": "execute_result"
    }
   ],
   "source": [
    "read_data[2:-1][0].head()"
   ]
  },
  {
   "cell_type": "markdown",
   "metadata": {},
   "source": [
    "#### 3.2 重新设置第一列为索引  \n",
    "使用df..set_index('列名')"
   ]
  },
  {
   "cell_type": "code",
   "execution_count": 51,
   "metadata": {},
   "outputs": [],
   "source": [
    "convert_data=read_data[2:-1].set_index(0)"
   ]
  },
  {
   "cell_type": "code",
   "execution_count": 26,
   "metadata": {},
   "outputs": [
    {
     "data": {
      "text/html": [
       "<div>\n",
       "<table border=\"1\" class=\"dataframe\">\n",
       "  <thead>\n",
       "    <tr style=\"text-align: right;\">\n",
       "      <th></th>\n",
       "      <th>1</th>\n",
       "      <th>2</th>\n",
       "      <th>3</th>\n",
       "      <th>4</th>\n",
       "      <th>5</th>\n",
       "      <th>6</th>\n",
       "    </tr>\n",
       "    <tr>\n",
       "      <th>0</th>\n",
       "      <th></th>\n",
       "      <th></th>\n",
       "      <th></th>\n",
       "      <th></th>\n",
       "      <th></th>\n",
       "      <th></th>\n",
       "    </tr>\n",
       "  </thead>\n",
       "  <tbody>\n",
       "    <tr>\n",
       "      <th>2017-12-01</th>\n",
       "      <td>刘秋兴</td>\n",
       "      <td>韦锋余</td>\n",
       "      <td>徐瑞</td>\n",
       "      <td>王娟娟</td>\n",
       "      <td>唐茂宁</td>\n",
       "      <td>刘琼</td>\n",
       "    </tr>\n",
       "    <tr>\n",
       "      <th>2017-12-02</th>\n",
       "      <td>刘秋兴</td>\n",
       "      <td>邢闯</td>\n",
       "      <td>韦锋余</td>\n",
       "      <td>徐瑞</td>\n",
       "      <td>唐茂宁</td>\n",
       "      <td>刘琼</td>\n",
       "    </tr>\n",
       "    <tr>\n",
       "      <th>2017-12-03</th>\n",
       "      <td>刘秋兴</td>\n",
       "      <td>侯放</td>\n",
       "      <td>邢闯</td>\n",
       "      <td>韦锋余</td>\n",
       "      <td>唐茂宁</td>\n",
       "      <td>刘琼</td>\n",
       "    </tr>\n",
       "    <tr>\n",
       "      <th>2017-12-04</th>\n",
       "      <td>梁森栋</td>\n",
       "      <td>高志一</td>\n",
       "      <td>侯放</td>\n",
       "      <td>邢闯</td>\n",
       "      <td>唐茂宁</td>\n",
       "      <td>刘琼</td>\n",
       "    </tr>\n",
       "    <tr>\n",
       "      <th>2017-12-05</th>\n",
       "      <td>梁森栋</td>\n",
       "      <td>王久珂</td>\n",
       "      <td>高志一</td>\n",
       "      <td>侯放</td>\n",
       "      <td>唐茂宁</td>\n",
       "      <td>刘琼</td>\n",
       "    </tr>\n",
       "  </tbody>\n",
       "</table>\n",
       "</div>"
      ],
      "text/plain": [
       "              1    2    3    4    5   6\n",
       "0                                      \n",
       "2017-12-01  刘秋兴  韦锋余   徐瑞  王娟娟  唐茂宁  刘琼\n",
       "2017-12-02  刘秋兴   邢闯  韦锋余   徐瑞  唐茂宁  刘琼\n",
       "2017-12-03  刘秋兴   侯放   邢闯  韦锋余  唐茂宁  刘琼\n",
       "2017-12-04  梁森栋  高志一   侯放   邢闯  唐茂宁  刘琼\n",
       "2017-12-05  梁森栋  王久珂  高志一   侯放  唐茂宁  刘琼"
      ]
     },
     "execution_count": 26,
     "metadata": {},
     "output_type": "execute_result"
    }
   ],
   "source": [
    "convert_data.head()"
   ]
  },
  {
   "cell_type": "markdown",
   "metadata": {},
   "source": [
    "* 注意使用set_index会默认将原来的列名（eg：0）作为新的索引的name  \n",
    "所以若想删除0这一行，使用drop的方式不可行，会报错"
   ]
  },
  {
   "cell_type": "code",
   "execution_count": 27,
   "metadata": {},
   "outputs": [
    {
     "ename": "ValueError",
     "evalue": "labels [0] not contained in axis",
     "output_type": "error",
     "traceback": [
      "\u001b[0;31m---------------------------------------------------------------------------\u001b[0m",
      "\u001b[0;31mValueError\u001b[0m                                Traceback (most recent call last)",
      "\u001b[0;32m<ipython-input-27-ee7af65c7c8b>\u001b[0m in \u001b[0;36m<module>\u001b[0;34m()\u001b[0m\n\u001b[0;32m----> 1\u001b[0;31m \u001b[0mconvert_data\u001b[0m\u001b[1;33m.\u001b[0m\u001b[0mdrop\u001b[0m\u001b[1;33m(\u001b[0m\u001b[1;36m0\u001b[0m\u001b[1;33m)\u001b[0m\u001b[1;33m\u001b[0m\u001b[0m\n\u001b[0m",
      "\u001b[0;32mC:\\Program Files\\Anaconda3\\lib\\site-packages\\pandas\\core\\generic.py\u001b[0m in \u001b[0;36mdrop\u001b[0;34m(self, labels, axis, level, inplace, errors)\u001b[0m\n\u001b[1;32m   1905\u001b[0m                 \u001b[0mnew_axis\u001b[0m \u001b[1;33m=\u001b[0m \u001b[0maxis\u001b[0m\u001b[1;33m.\u001b[0m\u001b[0mdrop\u001b[0m\u001b[1;33m(\u001b[0m\u001b[0mlabels\u001b[0m\u001b[1;33m,\u001b[0m \u001b[0mlevel\u001b[0m\u001b[1;33m=\u001b[0m\u001b[0mlevel\u001b[0m\u001b[1;33m,\u001b[0m \u001b[0merrors\u001b[0m\u001b[1;33m=\u001b[0m\u001b[0merrors\u001b[0m\u001b[1;33m)\u001b[0m\u001b[1;33m\u001b[0m\u001b[0m\n\u001b[1;32m   1906\u001b[0m             \u001b[1;32melse\u001b[0m\u001b[1;33m:\u001b[0m\u001b[1;33m\u001b[0m\u001b[0m\n\u001b[0;32m-> 1907\u001b[0;31m                 \u001b[0mnew_axis\u001b[0m \u001b[1;33m=\u001b[0m \u001b[0maxis\u001b[0m\u001b[1;33m.\u001b[0m\u001b[0mdrop\u001b[0m\u001b[1;33m(\u001b[0m\u001b[0mlabels\u001b[0m\u001b[1;33m,\u001b[0m \u001b[0merrors\u001b[0m\u001b[1;33m=\u001b[0m\u001b[0merrors\u001b[0m\u001b[1;33m)\u001b[0m\u001b[1;33m\u001b[0m\u001b[0m\n\u001b[0m\u001b[1;32m   1908\u001b[0m             \u001b[0mdropped\u001b[0m \u001b[1;33m=\u001b[0m \u001b[0mself\u001b[0m\u001b[1;33m.\u001b[0m\u001b[0mreindex\u001b[0m\u001b[1;33m(\u001b[0m\u001b[1;33m**\u001b[0m\u001b[1;33m{\u001b[0m\u001b[0maxis_name\u001b[0m\u001b[1;33m:\u001b[0m \u001b[0mnew_axis\u001b[0m\u001b[1;33m}\u001b[0m\u001b[1;33m)\u001b[0m\u001b[1;33m\u001b[0m\u001b[0m\n\u001b[1;32m   1909\u001b[0m             \u001b[1;32mtry\u001b[0m\u001b[1;33m:\u001b[0m\u001b[1;33m\u001b[0m\u001b[0m\n",
      "\u001b[0;32mC:\\Program Files\\Anaconda3\\lib\\site-packages\\pandas\\indexes\\base.py\u001b[0m in \u001b[0;36mdrop\u001b[0;34m(self, labels, errors)\u001b[0m\n\u001b[1;32m   3260\u001b[0m             \u001b[1;32mif\u001b[0m \u001b[0merrors\u001b[0m \u001b[1;33m!=\u001b[0m \u001b[1;34m'ignore'\u001b[0m\u001b[1;33m:\u001b[0m\u001b[1;33m\u001b[0m\u001b[0m\n\u001b[1;32m   3261\u001b[0m                 raise ValueError('labels %s not contained in axis' %\n\u001b[0;32m-> 3262\u001b[0;31m                                  labels[mask])\n\u001b[0m\u001b[1;32m   3263\u001b[0m             \u001b[0mindexer\u001b[0m \u001b[1;33m=\u001b[0m \u001b[0mindexer\u001b[0m\u001b[1;33m[\u001b[0m\u001b[1;33m~\u001b[0m\u001b[0mmask\u001b[0m\u001b[1;33m]\u001b[0m\u001b[1;33m\u001b[0m\u001b[0m\n\u001b[1;32m   3264\u001b[0m         \u001b[1;32mreturn\u001b[0m \u001b[0mself\u001b[0m\u001b[1;33m.\u001b[0m\u001b[0mdelete\u001b[0m\u001b[1;33m(\u001b[0m\u001b[0mindexer\u001b[0m\u001b[1;33m)\u001b[0m\u001b[1;33m\u001b[0m\u001b[0m\n",
      "\u001b[0;31mValueError\u001b[0m: labels [0] not contained in axis"
     ]
    }
   ],
   "source": [
    "convert_data.drop(0)"
   ]
  },
  {
   "cell_type": "code",
   "execution_count": 28,
   "metadata": {},
   "outputs": [
    {
     "data": {
      "text/plain": [
       "DatetimeIndex(['2017-12-01', '2017-12-02', '2017-12-03', '2017-12-04',\n",
       "               '2017-12-05', '2017-12-06', '2017-12-07', '2017-12-08',\n",
       "               '2017-12-09', '2017-12-10', '2017-12-11', '2017-12-12',\n",
       "               '2017-12-13', '2017-12-14', '2017-12-15', '2017-12-16',\n",
       "               '2017-12-17', '2017-12-18', '2017-12-19', '2017-12-20',\n",
       "               '2017-12-21', '2017-12-22', '2017-12-23', '2017-12-24',\n",
       "               '2017-12-25', '2017-12-26', '2017-12-27', '2017-12-28',\n",
       "               '2017-12-29', '2017-12-30'],\n",
       "              dtype='datetime64[ns]', name=0, freq=None)"
      ]
     },
     "execution_count": 28,
     "metadata": {},
     "output_type": "execute_result"
    }
   ],
   "source": [
    "convert_data.index"
   ]
  },
  {
   "cell_type": "markdown",
   "metadata": {},
   "source": [
    "* 但这个name貌似对检索并无影响"
   ]
  },
  {
   "cell_type": "markdown",
   "metadata": {},
   "source": [
    "#### 3.3 根据时间索引取值（测试用）"
   ]
  },
  {
   "cell_type": "code",
   "execution_count": 29,
   "metadata": {},
   "outputs": [
    {
     "data": {
      "text/plain": [
       "(1, 6)"
      ]
     },
     "execution_count": 29,
     "metadata": {},
     "output_type": "execute_result"
    }
   ],
   "source": [
    "convert_data[:1].shape"
   ]
  },
  {
   "cell_type": "code",
   "execution_count": 30,
   "metadata": {},
   "outputs": [
    {
     "data": {
      "text/html": [
       "<div>\n",
       "<table border=\"1\" class=\"dataframe\">\n",
       "  <thead>\n",
       "    <tr style=\"text-align: right;\">\n",
       "      <th></th>\n",
       "      <th>1</th>\n",
       "      <th>2</th>\n",
       "      <th>3</th>\n",
       "      <th>4</th>\n",
       "      <th>5</th>\n",
       "      <th>6</th>\n",
       "    </tr>\n",
       "    <tr>\n",
       "      <th>0</th>\n",
       "      <th></th>\n",
       "      <th></th>\n",
       "      <th></th>\n",
       "      <th></th>\n",
       "      <th></th>\n",
       "      <th></th>\n",
       "    </tr>\n",
       "  </thead>\n",
       "  <tbody>\n",
       "    <tr>\n",
       "      <th>2017-12-01</th>\n",
       "      <td>刘秋兴</td>\n",
       "      <td>韦锋余</td>\n",
       "      <td>徐瑞</td>\n",
       "      <td>王娟娟</td>\n",
       "      <td>唐茂宁</td>\n",
       "      <td>刘琼</td>\n",
       "    </tr>\n",
       "  </tbody>\n",
       "</table>\n",
       "</div>"
      ],
      "text/plain": [
       "              1    2   3    4    5   6\n",
       "0                                     \n",
       "2017-12-01  刘秋兴  韦锋余  徐瑞  王娟娟  唐茂宁  刘琼"
      ]
     },
     "execution_count": 30,
     "metadata": {},
     "output_type": "execute_result"
    }
   ],
   "source": [
    "convert_data[:1]"
   ]
  },
  {
   "cell_type": "code",
   "execution_count": 31,
   "metadata": {},
   "outputs": [
    {
     "data": {
      "text/plain": [
       "datetime.datetime(2017, 12, 1, 0, 0)"
      ]
     },
     "execution_count": 31,
     "metadata": {},
     "output_type": "execute_result"
    }
   ],
   "source": [
    "datetime.datetime(2017,12,1)"
   ]
  },
  {
   "cell_type": "markdown",
   "metadata": {},
   "source": [
    "* 注意从dataframe中取出一行就是一个series"
   ]
  },
  {
   "cell_type": "code",
   "execution_count": 32,
   "metadata": {},
   "outputs": [
    {
     "data": {
      "text/plain": [
       "pandas.core.series.Series"
      ]
     },
     "execution_count": 32,
     "metadata": {},
     "output_type": "execute_result"
    }
   ],
   "source": [
    "type(convert_data.loc[datetime.datetime(2017,12,1)])"
   ]
  },
  {
   "cell_type": "code",
   "execution_count": 33,
   "metadata": {},
   "outputs": [
    {
     "data": {
      "text/plain": [
       "1    刘秋兴\n",
       "2    韦锋余\n",
       "3     徐瑞\n",
       "4    王娟娟\n",
       "5    唐茂宁\n",
       "6     刘琼\n",
       "Name: 2017-12-01 00:00:00, dtype: object"
      ]
     },
     "execution_count": 33,
     "metadata": {},
     "output_type": "execute_result"
    }
   ],
   "source": [
    "convert_data.loc[datetime.datetime(2017,12,1)]"
   ]
  },
  {
   "cell_type": "markdown",
   "metadata": {},
   "source": [
    "#### 3.4 尝试去掉索引列的name 0（测试用）"
   ]
  },
  {
   "cell_type": "code",
   "execution_count": 67,
   "metadata": {},
   "outputs": [],
   "source": [
    "#convert_data[0].tolist()"
   ]
  },
  {
   "cell_type": "markdown",
   "metadata": {},
   "source": [
    "### 4、重新赋值columns并通过层次化的方式重新读取数据"
   ]
  },
  {
   "cell_type": "code",
   "execution_count": 41,
   "metadata": {
    "scrolled": true
   },
   "outputs": [
    {
     "data": {
      "text/html": [
       "<div>\n",
       "<table border=\"1\" class=\"dataframe\">\n",
       "  <thead>\n",
       "    <tr style=\"text-align: right;\">\n",
       "      <th></th>\n",
       "      <th>0</th>\n",
       "      <th>1</th>\n",
       "      <th>2</th>\n",
       "      <th>3</th>\n",
       "      <th>4</th>\n",
       "      <th>5</th>\n",
       "    </tr>\n",
       "  </thead>\n",
       "  <tbody>\n",
       "    <tr>\n",
       "      <th>0</th>\n",
       "      <td>预警室</td>\n",
       "      <td>预警室</td>\n",
       "      <td>预警室</td>\n",
       "      <td>预警室</td>\n",
       "      <td>预警室</td>\n",
       "      <td>预警室</td>\n",
       "    </tr>\n",
       "    <tr>\n",
       "      <th>1</th>\n",
       "      <td>风暴潮组</td>\n",
       "      <td>海浪组</td>\n",
       "      <td>海浪组</td>\n",
       "      <td>海浪组</td>\n",
       "      <td>海冰组</td>\n",
       "      <td>海冰组</td>\n",
       "    </tr>\n",
       "    <tr>\n",
       "      <th>2</th>\n",
       "      <td>主班</td>\n",
       "      <td>主班</td>\n",
       "      <td>副班</td>\n",
       "      <td>警报班</td>\n",
       "      <td>主班</td>\n",
       "      <td>主班</td>\n",
       "    </tr>\n",
       "  </tbody>\n",
       "</table>\n",
       "</div>"
      ],
      "text/plain": [
       "      0    1    2    3    4    5\n",
       "0   预警室  预警室  预警室  预警室  预警室  预警室\n",
       "1  风暴潮组  海浪组  海浪组  海浪组  海冰组  海冰组\n",
       "2    主班   主班   副班  警报班   主班   主班"
      ]
     },
     "execution_count": 41,
     "metadata": {},
     "output_type": "execute_result"
    }
   ],
   "source": [
    "columns_newmerage"
   ]
  },
  {
   "cell_type": "markdown",
   "metadata": {},
   "source": [
    "* 若直接将columns_names（是一个dataframe）  \n",
    "直接赋值给要修改的dataframe的columns会出错：  \n",
    "ValueError: Length mismatch: Expected axis has 6 elements, new values have 2 elements"
   ]
  },
  {
   "cell_type": "code",
   "execution_count": 44,
   "metadata": {},
   "outputs": [
    {
     "data": {
      "text/html": [
       "<div>\n",
       "<table border=\"1\" class=\"dataframe\">\n",
       "  <thead>\n",
       "    <tr style=\"text-align: right;\">\n",
       "      <th></th>\n",
       "      <th>0</th>\n",
       "      <th>1</th>\n",
       "      <th>2</th>\n",
       "      <th>3</th>\n",
       "      <th>4</th>\n",
       "      <th>5</th>\n",
       "    </tr>\n",
       "  </thead>\n",
       "  <tbody>\n",
       "    <tr>\n",
       "      <th>0</th>\n",
       "      <td>预警室</td>\n",
       "      <td>预警室</td>\n",
       "      <td>预警室</td>\n",
       "      <td>预警室</td>\n",
       "      <td>预警室</td>\n",
       "      <td>预警室</td>\n",
       "    </tr>\n",
       "  </tbody>\n",
       "</table>\n",
       "</div>"
      ],
      "text/plain": [
       "     0    1    2    3    4    5\n",
       "0  预警室  预警室  预警室  预警室  预警室  预警室"
      ]
     },
     "execution_count": 44,
     "metadata": {},
     "output_type": "execute_result"
    }
   ],
   "source": [
    "columns_newmerage.iloc[0:1]"
   ]
  },
  {
   "cell_type": "code",
   "execution_count": 45,
   "metadata": {},
   "outputs": [
    {
     "data": {
      "text/plain": [
       "0    预警室\n",
       "1    预警室\n",
       "2    预警室\n",
       "3    预警室\n",
       "4    预警室\n",
       "5    预警室\n",
       "Name: 0, dtype: object"
      ]
     },
     "execution_count": 45,
     "metadata": {},
     "output_type": "execute_result"
    }
   ],
   "source": [
    "columns_newmerage.loc[0]"
   ]
  },
  {
   "cell_type": "code",
   "execution_count": 46,
   "metadata": {},
   "outputs": [
    {
     "data": {
      "text/plain": [
       "['预警室', '预警室', '预警室', '预警室', '预警室', '预警室']"
      ]
     },
     "execution_count": 46,
     "metadata": {},
     "output_type": "execute_result"
    }
   ],
   "source": [
    "columns_newmerage.loc[0].tolist()"
   ]
  },
  {
   "cell_type": "markdown",
   "metadata": {},
   "source": [
    "* 注意若直接将series作为列的话，会在列的前面加一个数字  \n",
    "解决办法：将series.tolist()"
   ]
  },
  {
   "cell_type": "code",
   "execution_count": 47,
   "metadata": {},
   "outputs": [],
   "source": [
    "#convert_data.columns=[columns_names.loc[0],columns_names.loc[1]]"
   ]
  },
  {
   "cell_type": "code",
   "execution_count": 53,
   "metadata": {},
   "outputs": [
    {
     "data": {
      "text/html": [
       "<div>\n",
       "<table border=\"1\" class=\"dataframe\">\n",
       "  <thead>\n",
       "    <tr style=\"text-align: right;\">\n",
       "      <th></th>\n",
       "      <th>0</th>\n",
       "      <th>1</th>\n",
       "      <th>2</th>\n",
       "      <th>3</th>\n",
       "      <th>4</th>\n",
       "      <th>5</th>\n",
       "    </tr>\n",
       "  </thead>\n",
       "  <tbody>\n",
       "    <tr>\n",
       "      <th>0</th>\n",
       "      <td>预警室</td>\n",
       "      <td>预警室</td>\n",
       "      <td>预警室</td>\n",
       "      <td>预警室</td>\n",
       "      <td>预警室</td>\n",
       "      <td>预警室</td>\n",
       "    </tr>\n",
       "    <tr>\n",
       "      <th>1</th>\n",
       "      <td>风暴潮组</td>\n",
       "      <td>海浪组</td>\n",
       "      <td>海浪组</td>\n",
       "      <td>海浪组</td>\n",
       "      <td>海冰组</td>\n",
       "      <td>海冰组</td>\n",
       "    </tr>\n",
       "    <tr>\n",
       "      <th>2</th>\n",
       "      <td>主班</td>\n",
       "      <td>主班</td>\n",
       "      <td>副班</td>\n",
       "      <td>警报班</td>\n",
       "      <td>主班</td>\n",
       "      <td>主班</td>\n",
       "    </tr>\n",
       "  </tbody>\n",
       "</table>\n",
       "</div>"
      ],
      "text/plain": [
       "      0    1    2    3    4    5\n",
       "0   预警室  预警室  预警室  预警室  预警室  预警室\n",
       "1  风暴潮组  海浪组  海浪组  海浪组  海冰组  海冰组\n",
       "2    主班   主班   副班  警报班   主班   主班"
      ]
     },
     "execution_count": 53,
     "metadata": {},
     "output_type": "execute_result"
    }
   ],
   "source": [
    "columns_newmerage"
   ]
  },
  {
   "cell_type": "code",
   "execution_count": 57,
   "metadata": {},
   "outputs": [],
   "source": [
    "convert_data.columns=[columns_newmerage.loc[0].tolist(),columns_newmerage.loc[1].tolist(),columns_newmerage.loc[2].tolist()]"
   ]
  },
  {
   "cell_type": "code",
   "execution_count": 58,
   "metadata": {},
   "outputs": [
    {
     "data": {
      "text/html": [
       "<div>\n",
       "<table border=\"1\" class=\"dataframe\">\n",
       "  <thead>\n",
       "    <tr>\n",
       "      <th></th>\n",
       "      <th colspan=\"6\" halign=\"left\">预警室</th>\n",
       "    </tr>\n",
       "    <tr>\n",
       "      <th></th>\n",
       "      <th>风暴潮组</th>\n",
       "      <th colspan=\"3\" halign=\"left\">海浪组</th>\n",
       "      <th colspan=\"2\" halign=\"left\">海冰组</th>\n",
       "    </tr>\n",
       "    <tr>\n",
       "      <th></th>\n",
       "      <th>主班</th>\n",
       "      <th>主班</th>\n",
       "      <th>副班</th>\n",
       "      <th>警报班</th>\n",
       "      <th>主班</th>\n",
       "      <th>主班</th>\n",
       "    </tr>\n",
       "    <tr>\n",
       "      <th>0</th>\n",
       "      <th></th>\n",
       "      <th></th>\n",
       "      <th></th>\n",
       "      <th></th>\n",
       "      <th></th>\n",
       "      <th></th>\n",
       "    </tr>\n",
       "  </thead>\n",
       "  <tbody>\n",
       "    <tr>\n",
       "      <th>2017-12-01</th>\n",
       "      <td>刘秋兴</td>\n",
       "      <td>韦锋余</td>\n",
       "      <td>徐瑞</td>\n",
       "      <td>王娟娟</td>\n",
       "      <td>唐茂宁</td>\n",
       "      <td>刘琼</td>\n",
       "    </tr>\n",
       "    <tr>\n",
       "      <th>2017-12-02</th>\n",
       "      <td>刘秋兴</td>\n",
       "      <td>邢闯</td>\n",
       "      <td>韦锋余</td>\n",
       "      <td>徐瑞</td>\n",
       "      <td>唐茂宁</td>\n",
       "      <td>刘琼</td>\n",
       "    </tr>\n",
       "    <tr>\n",
       "      <th>2017-12-03</th>\n",
       "      <td>刘秋兴</td>\n",
       "      <td>侯放</td>\n",
       "      <td>邢闯</td>\n",
       "      <td>韦锋余</td>\n",
       "      <td>唐茂宁</td>\n",
       "      <td>刘琼</td>\n",
       "    </tr>\n",
       "    <tr>\n",
       "      <th>2017-12-04</th>\n",
       "      <td>梁森栋</td>\n",
       "      <td>高志一</td>\n",
       "      <td>侯放</td>\n",
       "      <td>邢闯</td>\n",
       "      <td>唐茂宁</td>\n",
       "      <td>刘琼</td>\n",
       "    </tr>\n",
       "    <tr>\n",
       "      <th>2017-12-05</th>\n",
       "      <td>梁森栋</td>\n",
       "      <td>王久珂</td>\n",
       "      <td>高志一</td>\n",
       "      <td>侯放</td>\n",
       "      <td>唐茂宁</td>\n",
       "      <td>刘琼</td>\n",
       "    </tr>\n",
       "  </tbody>\n",
       "</table>\n",
       "</div>"
      ],
      "text/plain": [
       "            预警室                        \n",
       "           风暴潮组  海浪组            海冰组    \n",
       "             主班   主班   副班  警报班   主班  主班\n",
       "0                                      \n",
       "2017-12-01  刘秋兴  韦锋余   徐瑞  王娟娟  唐茂宁  刘琼\n",
       "2017-12-02  刘秋兴   邢闯  韦锋余   徐瑞  唐茂宁  刘琼\n",
       "2017-12-03  刘秋兴   侯放   邢闯  韦锋余  唐茂宁  刘琼\n",
       "2017-12-04  梁森栋  高志一   侯放   邢闯  唐茂宁  刘琼\n",
       "2017-12-05  梁森栋  王久珂  高志一   侯放  唐茂宁  刘琼"
      ]
     },
     "execution_count": 58,
     "metadata": {},
     "output_type": "execute_result"
    }
   ],
   "source": [
    "convert_data.head()"
   ]
  },
  {
   "cell_type": "code",
   "execution_count": 59,
   "metadata": {},
   "outputs": [
    {
     "data": {
      "text/html": [
       "<div>\n",
       "<table border=\"1\" class=\"dataframe\">\n",
       "  <thead>\n",
       "    <tr style=\"text-align: right;\">\n",
       "      <th></th>\n",
       "      <th>主班</th>\n",
       "    </tr>\n",
       "    <tr>\n",
       "      <th>0</th>\n",
       "      <th></th>\n",
       "    </tr>\n",
       "  </thead>\n",
       "  <tbody>\n",
       "    <tr>\n",
       "      <th>2017-12-01</th>\n",
       "      <td>刘秋兴</td>\n",
       "    </tr>\n",
       "    <tr>\n",
       "      <th>2017-12-02</th>\n",
       "      <td>刘秋兴</td>\n",
       "    </tr>\n",
       "    <tr>\n",
       "      <th>2017-12-03</th>\n",
       "      <td>刘秋兴</td>\n",
       "    </tr>\n",
       "    <tr>\n",
       "      <th>2017-12-04</th>\n",
       "      <td>梁森栋</td>\n",
       "    </tr>\n",
       "    <tr>\n",
       "      <th>2017-12-05</th>\n",
       "      <td>梁森栋</td>\n",
       "    </tr>\n",
       "  </tbody>\n",
       "</table>\n",
       "</div>"
      ],
      "text/plain": [
       "             主班\n",
       "0              \n",
       "2017-12-01  刘秋兴\n",
       "2017-12-02  刘秋兴\n",
       "2017-12-03  刘秋兴\n",
       "2017-12-04  梁森栋\n",
       "2017-12-05  梁森栋"
      ]
     },
     "execution_count": 59,
     "metadata": {},
     "output_type": "execute_result"
    }
   ],
   "source": [
    "convert_data['风暴潮组'].head()"
   ]
  },
  {
   "cell_type": "code",
   "execution_count": 60,
   "metadata": {},
   "outputs": [
    {
     "data": {
      "text/plain": [
       "风暴潮组  主班     刘秋兴\n",
       "海浪组   主班     韦锋余\n",
       "      副班      徐瑞\n",
       "      警报班    王娟娟\n",
       "海冰组   主班     唐茂宁\n",
       "      主班      刘琼\n",
       "Name: 2017-12-01 00:00:00, dtype: object"
      ]
     },
     "execution_count": 60,
     "metadata": {},
     "output_type": "execute_result"
    }
   ],
   "source": [
    "convert_data.iloc[0]"
   ]
  },
  {
   "cell_type": "code",
   "execution_count": 61,
   "metadata": {},
   "outputs": [
    {
     "data": {
      "text/plain": [
       "风暴潮组  主班     刘秋兴\n",
       "海浪组   主班     韦锋余\n",
       "      副班      徐瑞\n",
       "      警报班    王娟娟\n",
       "海冰组   主班     唐茂宁\n",
       "      主班      刘琼\n",
       "Name: 2017-12-01 00:00:00, dtype: object"
      ]
     },
     "execution_count": 61,
     "metadata": {},
     "output_type": "execute_result"
    }
   ],
   "source": [
    "convert_data.loc[datetime.datetime(2017,12,1)]"
   ]
  },
  {
   "cell_type": "markdown",
   "metadata": {},
   "source": [
    "* 会出错：  \n",
    "TypeError: cannot do index indexing on <class 'pandas.tseries.index.DatetimeIndex'> with these indexers [1] of <class 'int'>"
   ]
  },
  {
   "cell_type": "code",
   "execution_count": 52,
   "metadata": {},
   "outputs": [],
   "source": [
    "#convert_data.loc[1]"
   ]
  },
  {
   "cell_type": "markdown",
   "metadata": {},
   "source": [
    "#### 检索dataframe"
   ]
  },
  {
   "cell_type": "code",
   "execution_count": 62,
   "metadata": {},
   "outputs": [
    {
     "data": {
      "text/html": [
       "<div>\n",
       "<table border=\"1\" class=\"dataframe\">\n",
       "  <thead>\n",
       "    <tr>\n",
       "      <th></th>\n",
       "      <th>风暴潮组</th>\n",
       "      <th colspan=\"3\" halign=\"left\">海浪组</th>\n",
       "      <th colspan=\"2\" halign=\"left\">海冰组</th>\n",
       "    </tr>\n",
       "    <tr>\n",
       "      <th></th>\n",
       "      <th>主班</th>\n",
       "      <th>主班</th>\n",
       "      <th>副班</th>\n",
       "      <th>警报班</th>\n",
       "      <th>主班</th>\n",
       "      <th>主班</th>\n",
       "    </tr>\n",
       "    <tr>\n",
       "      <th>0</th>\n",
       "      <th></th>\n",
       "      <th></th>\n",
       "      <th></th>\n",
       "      <th></th>\n",
       "      <th></th>\n",
       "      <th></th>\n",
       "    </tr>\n",
       "  </thead>\n",
       "  <tbody>\n",
       "    <tr>\n",
       "      <th>2017-12-01</th>\n",
       "      <td>刘秋兴</td>\n",
       "      <td>韦锋余</td>\n",
       "      <td>徐瑞</td>\n",
       "      <td>王娟娟</td>\n",
       "      <td>唐茂宁</td>\n",
       "      <td>刘琼</td>\n",
       "    </tr>\n",
       "  </tbody>\n",
       "</table>\n",
       "</div>"
      ],
      "text/plain": [
       "           风暴潮组  海浪组           海冰组    \n",
       "             主班   主班  副班  警报班   主班  主班\n",
       "0                                     \n",
       "2017-12-01  刘秋兴  韦锋余  徐瑞  王娟娟  唐茂宁  刘琼"
      ]
     },
     "execution_count": 62,
     "metadata": {},
     "output_type": "execute_result"
    }
   ],
   "source": [
    "convert_data.iloc[:1]"
   ]
  },
  {
   "cell_type": "code",
   "execution_count": 63,
   "metadata": {},
   "outputs": [
    {
     "data": {
      "text/plain": [
       "风暴潮组  主班     刘秋兴\n",
       "海浪组   主班     韦锋余\n",
       "      副班      徐瑞\n",
       "      警报班    王娟娟\n",
       "海冰组   主班     唐茂宁\n",
       "      主班      刘琼\n",
       "Name: 2017-12-01 00:00:00, dtype: object"
      ]
     },
     "execution_count": 63,
     "metadata": {},
     "output_type": "execute_result"
    }
   ],
   "source": [
    "convert_data.iloc[0]"
   ]
  },
  {
   "cell_type": "code",
   "execution_count": 65,
   "metadata": {},
   "outputs": [
    {
     "data": {
      "text/plain": [
       "风暴潮组  主班     刘秋兴\n",
       "海浪组   主班     韦锋余\n",
       "      副班      徐瑞\n",
       "      警报班    王娟娟\n",
       "海冰组   主班     唐茂宁\n",
       "      主班      刘琼\n",
       "Name: 2017-12-01 00:00:00, dtype: object"
      ]
     },
     "execution_count": 65,
     "metadata": {},
     "output_type": "execute_result"
    }
   ],
   "source": [
    "convert_data.loc[datetime.datetime(2017,12,1)]"
   ]
  },
  {
   "cell_type": "code",
   "execution_count": 69,
   "metadata": {},
   "outputs": [
    {
     "data": {
      "text/plain": [
       "pandas.core.series.Series"
      ]
     },
     "execution_count": 69,
     "metadata": {},
     "output_type": "execute_result"
    }
   ],
   "source": [
    "type(convert_data.loc[datetime.datetime(2017,12,1)])"
   ]
  },
  {
   "cell_type": "code",
   "execution_count": 70,
   "metadata": {
    "scrolled": true
   },
   "outputs": [
    {
     "data": {
      "text/plain": [
       "MultiIndex(levels=[['海冰组', '海浪组', '风暴潮组'], ['主班', '副班', '警报班']],\n",
       "           labels=[[2, 1, 1, 1, 0, 0], [0, 0, 1, 2, 0, 0]])"
      ]
     },
     "execution_count": 70,
     "metadata": {},
     "output_type": "execute_result"
    }
   ],
   "source": [
    "convert_data.loc[datetime.datetime(2017,12,1)].index"
   ]
  },
  {
   "cell_type": "markdown",
   "metadata": {},
   "source": [
    "#### (2) 选取层次化索引的对象中的数据"
   ]
  },
  {
   "cell_type": "code",
   "execution_count": 78,
   "metadata": {},
   "outputs": [
    {
     "data": {
      "text/plain": [
       "主班     韦锋余\n",
       "副班      徐瑞\n",
       "警报班    王娟娟\n",
       "Name: 2017-12-01 00:00:00, dtype: object"
      ]
     },
     "execution_count": 78,
     "metadata": {},
     "output_type": "execute_result"
    }
   ],
   "source": [
    "convert_data.loc[datetime.datetime(2017,12,1)]['海浪组']"
   ]
  },
  {
   "cell_type": "code",
   "execution_count": 79,
   "metadata": {},
   "outputs": [
    {
     "data": {
      "text/plain": [
       "'徐瑞'"
      ]
     },
     "execution_count": 79,
     "metadata": {},
     "output_type": "execute_result"
    }
   ],
   "source": [
    "convert_data.loc[datetime.datetime(2017,12,1)]['海浪组','副班']"
   ]
  },
  {
   "cell_type": "markdown",
   "metadata": {},
   "source": [
    "#### （3）获取某一日的一行数据，并分别获取索引的值"
   ]
  },
  {
   "cell_type": "code",
   "execution_count": 80,
   "metadata": {},
   "outputs": [
    {
     "data": {
      "text/plain": [
       "风暴潮组  主班     刘秋兴\n",
       "海浪组   主班     韦锋余\n",
       "      副班      徐瑞\n",
       "      警报班    王娟娟\n",
       "海冰组   主班     唐茂宁\n",
       "      主班      刘琼\n",
       "Name: 2017-12-01 00:00:00, dtype: object"
      ]
     },
     "execution_count": 80,
     "metadata": {},
     "output_type": "execute_result"
    }
   ],
   "source": [
    "convert_data.loc[datetime.datetime(2017,12,1)]"
   ]
  },
  {
   "cell_type": "code",
   "execution_count": 81,
   "metadata": {},
   "outputs": [
    {
     "data": {
      "text/plain": [
       "'刘秋兴'"
      ]
     },
     "execution_count": 81,
     "metadata": {},
     "output_type": "execute_result"
    }
   ],
   "source": [
    "convert_data.loc[datetime.datetime(2017,12,1)].iloc[0]"
   ]
  },
  {
   "cell_type": "code",
   "execution_count": 82,
   "metadata": {},
   "outputs": [
    {
     "data": {
      "text/plain": [
       "MultiIndex(levels=[['海冰组', '海浪组', '风暴潮组'], ['主班', '副班', '警报班']],\n",
       "           labels=[[2, 1, 1, 1, 0, 0], [0, 0, 1, 2, 0, 0]])"
      ]
     },
     "execution_count": 82,
     "metadata": {},
     "output_type": "execute_result"
    }
   ],
   "source": [
    "convert_data.loc[datetime.datetime(2017,12,1)].index"
   ]
  },
  {
   "cell_type": "code",
   "execution_count": 84,
   "metadata": {},
   "outputs": [
    {
     "data": {
      "text/plain": [
       "风暴潮组  主班    刘秋兴\n",
       "Name: 2017-12-01 00:00:00, dtype: object"
      ]
     },
     "execution_count": 84,
     "metadata": {},
     "output_type": "execute_result"
    }
   ],
   "source": [
    "convert_data.loc[datetime.datetime(2017,12,1)][:1]"
   ]
  },
  {
   "cell_type": "code",
   "execution_count": 85,
   "metadata": {},
   "outputs": [
    {
     "data": {
      "text/plain": [
       "MultiIndex(levels=[['海冰组', '海浪组', '风暴潮组'], ['主班', '副班', '警报班']],\n",
       "           labels=[[2], [0]])"
      ]
     },
     "execution_count": 85,
     "metadata": {},
     "output_type": "execute_result"
    }
   ],
   "source": [
    "convert_data.loc[datetime.datetime(2017,12,1)][:1].index"
   ]
  },
  {
   "cell_type": "code",
   "execution_count": 89,
   "metadata": {},
   "outputs": [
    {
     "data": {
      "text/html": [
       "<div>\n",
       "<table border=\"1\" class=\"dataframe\">\n",
       "  <thead>\n",
       "    <tr style=\"text-align: right;\">\n",
       "      <th></th>\n",
       "      <th>主班</th>\n",
       "    </tr>\n",
       "  </thead>\n",
       "  <tbody>\n",
       "    <tr>\n",
       "      <th>风暴潮组</th>\n",
       "      <td>刘秋兴</td>\n",
       "    </tr>\n",
       "  </tbody>\n",
       "</table>\n",
       "</div>"
      ],
      "text/plain": [
       "       主班\n",
       "风暴潮组  刘秋兴"
      ]
     },
     "execution_count": 89,
     "metadata": {},
     "output_type": "execute_result"
    }
   ],
   "source": [
    "# 使用Unstack进行重塑\n",
    "convert_df=convert_data.loc[datetime.datetime(2017,12,1)][:1].unstack()\n",
    "convert_df"
   ]
  },
  {
   "cell_type": "code",
   "execution_count": 90,
   "metadata": {},
   "outputs": [
    {
     "data": {
      "text/plain": [
       "Index(['风暴潮组'], dtype='object')"
      ]
     },
     "execution_count": 90,
     "metadata": {},
     "output_type": "execute_result"
    }
   ],
   "source": [
    "convert_df.index"
   ]
  },
  {
   "cell_type": "code",
   "execution_count": 91,
   "metadata": {},
   "outputs": [
    {
     "data": {
      "text/plain": [
       "Index(['主班'], dtype='object')"
      ]
     },
     "execution_count": 91,
     "metadata": {},
     "output_type": "execute_result"
    }
   ],
   "source": [
    "convert_df.columns"
   ]
  },
  {
   "cell_type": "code",
   "execution_count": null,
   "metadata": {
    "collapsed": true
   },
   "outputs": [],
   "source": []
  }
 ],
 "metadata": {
  "kernelspec": {
   "display_name": "Python 3",
   "language": "python",
   "name": "python3"
  },
  "language_info": {
   "codemirror_mode": {
    "name": "ipython",
    "version": 3
   },
   "file_extension": ".py",
   "mimetype": "text/x-python",
   "name": "python",
   "nbconvert_exporter": "python",
   "pygments_lexer": "ipython3",
   "version": "3.6.3"
  }
 },
 "nbformat": 4,
 "nbformat_minor": 1
}
