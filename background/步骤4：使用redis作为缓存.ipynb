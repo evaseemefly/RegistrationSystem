{
 "cells": [
  {
   "cell_type": "code",
   "execution_count": 5,
   "metadata": {
    "collapsed": true
   },
   "outputs": [],
   "source": [
    "import redis\n",
    "import pickle"
   ]
  },
  {
   "cell_type": "code",
   "execution_count": 2,
   "metadata": {
    "collapsed": true
   },
   "outputs": [],
   "source": [
    "r=redis.Redis(host='127.0.0.1',port=6379)"
   ]
  },
  {
   "cell_type": "code",
   "execution_count": 3,
   "metadata": {},
   "outputs": [
    {
     "name": "stdout",
     "output_type": "stream",
     "text": [
      "None\n"
     ]
    }
   ],
   "source": [
    "# r.set('name','liu')\n",
    "print(r.get('name'))"
   ]
  },
  {
   "cell_type": "code",
   "execution_count": 7,
   "metadata": {},
   "outputs": [],
   "source": [
    "data_redis=r.get('dailydata')"
   ]
  },
  {
   "cell_type": "code",
   "execution_count": 8,
   "metadata": {},
   "outputs": [
    {
     "data": {
      "text/plain": [
       "[<data.model.Person at 0x1a453c69898>,\n",
       " <data.model.Person at 0x1a4579be828>,\n",
       " <data.model.Person at 0x1a4579be8d0>,\n",
       " <data.model.Person at 0x1a4579be9e8>,\n",
       " <data.model.Person at 0x1a4579bea20>,\n",
       " <data.model.Person at 0x1a4579be898>,\n",
       " <data.model.Person at 0x1a4579be908>,\n",
       " <data.model.Person at 0x1a4579be940>,\n",
       " <data.model.Person at 0x1a4579be978>,\n",
       " <data.model.Person at 0x1a4579becc0>,\n",
       " <data.model.Person at 0x1a4579bea58>,\n",
       " <data.model.Person at 0x1a4579becf8>]"
      ]
     },
     "execution_count": 8,
     "metadata": {},
     "output_type": "execute_result"
    }
   ],
   "source": [
    "pickle.loads(data_redis)"
   ]
  },
  {
   "cell_type": "code",
   "execution_count": null,
   "metadata": {
    "collapsed": true
   },
   "outputs": [],
   "source": []
  }
 ],
 "metadata": {
  "kernelspec": {
   "display_name": "Python 3",
   "language": "python",
   "name": "python3"
  },
  "language_info": {
   "codemirror_mode": {
    "name": "ipython",
    "version": 3
   },
   "file_extension": ".py",
   "mimetype": "text/x-python",
   "name": "python",
   "nbconvert_exporter": "python",
   "pygments_lexer": "ipython3",
   "version": "3.6.2"
  }
 },
 "nbformat": 4,
 "nbformat_minor": 2
}
