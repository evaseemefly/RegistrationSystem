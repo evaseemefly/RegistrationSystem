{
 "cells": [
  {
   "cell_type": "code",
   "execution_count": 4,
   "metadata": {
    "collapsed": true
   },
   "outputs": [],
   "source": [
    "import xlrd\n",
    "import os\n",
    "from pandas import Series,DataFrame\n",
    "import numpy as np\n",
    "import pandas as pd\n",
    "import datetime"
   ]
  },
  {
   "cell_type": "markdown",
   "metadata": {},
   "source": [
    "### 1、读取指定的pickle文件"
   ]
  },
  {
   "cell_type": "markdown",
   "metadata": {},
   "source": [
    "* 读取路径"
   ]
  },
  {
   "cell_type": "code",
   "execution_count": 5,
   "metadata": {
    "collapsed": true
   },
   "outputs": [],
   "source": [
    "read_path=r'result/2018/MERAGE_1801.pk1'"
   ]
  },
  {
   "cell_type": "code",
   "execution_count": 6,
   "metadata": {},
   "outputs": [
    {
     "data": {
      "text/html": [
       "<div>\n",
       "<style>\n",
       "    .dataframe thead tr:only-child th {\n",
       "        text-align: right;\n",
       "    }\n",
       "\n",
       "    .dataframe thead th {\n",
       "        text-align: left;\n",
       "    }\n",
       "\n",
       "    .dataframe tbody tr th {\n",
       "        vertical-align: top;\n",
       "    }\n",
       "</style>\n",
       "<table border=\"1\" class=\"dataframe\">\n",
       "  <thead>\n",
       "    <tr>\n",
       "      <th></th>\n",
       "      <th colspan=\"6\" halign=\"left\">气候室</th>\n",
       "      <th colspan=\"6\" halign=\"left\">预警室</th>\n",
       "    </tr>\n",
       "    <tr>\n",
       "      <th></th>\n",
       "      <th>风暴潮组</th>\n",
       "      <th colspan=\"3\" halign=\"left\">海浪组</th>\n",
       "      <th colspan=\"2\" halign=\"left\">海冰组</th>\n",
       "      <th>风暴潮组</th>\n",
       "      <th colspan=\"3\" halign=\"left\">海浪组</th>\n",
       "      <th colspan=\"2\" halign=\"left\">海冰组</th>\n",
       "    </tr>\n",
       "    <tr>\n",
       "      <th></th>\n",
       "      <th>主班</th>\n",
       "      <th>主班</th>\n",
       "      <th>副班</th>\n",
       "      <th>警报班</th>\n",
       "      <th>主班</th>\n",
       "      <th>主班</th>\n",
       "      <th>主班</th>\n",
       "      <th>主班</th>\n",
       "      <th>副班</th>\n",
       "      <th>警报班</th>\n",
       "      <th>主班</th>\n",
       "      <th>主班</th>\n",
       "    </tr>\n",
       "    <tr>\n",
       "      <th>0</th>\n",
       "      <th></th>\n",
       "      <th></th>\n",
       "      <th></th>\n",
       "      <th></th>\n",
       "      <th></th>\n",
       "      <th></th>\n",
       "      <th></th>\n",
       "      <th></th>\n",
       "      <th></th>\n",
       "      <th></th>\n",
       "      <th></th>\n",
       "      <th></th>\n",
       "    </tr>\n",
       "  </thead>\n",
       "  <tbody>\n",
       "    <tr>\n",
       "      <th>2017-12-01</th>\n",
       "      <td>刘秋兴</td>\n",
       "      <td>韦锋余</td>\n",
       "      <td>徐瑞</td>\n",
       "      <td>王娟娟</td>\n",
       "      <td>唐茂宁</td>\n",
       "      <td>刘琼</td>\n",
       "      <td>刘秋兴</td>\n",
       "      <td>韦锋余</td>\n",
       "      <td>徐瑞</td>\n",
       "      <td>王娟娟</td>\n",
       "      <td>唐茂宁</td>\n",
       "      <td>刘琼</td>\n",
       "    </tr>\n",
       "    <tr>\n",
       "      <th>2017-12-02</th>\n",
       "      <td>刘秋兴</td>\n",
       "      <td>邢闯</td>\n",
       "      <td>韦锋余</td>\n",
       "      <td>徐瑞</td>\n",
       "      <td>唐茂宁</td>\n",
       "      <td>刘琼</td>\n",
       "      <td>刘秋兴</td>\n",
       "      <td>邢闯</td>\n",
       "      <td>韦锋余</td>\n",
       "      <td>徐瑞</td>\n",
       "      <td>唐茂宁</td>\n",
       "      <td>刘琼</td>\n",
       "    </tr>\n",
       "    <tr>\n",
       "      <th>2017-12-03</th>\n",
       "      <td>刘秋兴</td>\n",
       "      <td>侯放</td>\n",
       "      <td>邢闯</td>\n",
       "      <td>韦锋余</td>\n",
       "      <td>唐茂宁</td>\n",
       "      <td>刘琼</td>\n",
       "      <td>刘秋兴</td>\n",
       "      <td>侯放</td>\n",
       "      <td>邢闯</td>\n",
       "      <td>韦锋余</td>\n",
       "      <td>唐茂宁</td>\n",
       "      <td>刘琼</td>\n",
       "    </tr>\n",
       "    <tr>\n",
       "      <th>2017-12-04</th>\n",
       "      <td>梁森栋</td>\n",
       "      <td>高志一</td>\n",
       "      <td>侯放</td>\n",
       "      <td>邢闯</td>\n",
       "      <td>唐茂宁</td>\n",
       "      <td>刘琼</td>\n",
       "      <td>梁森栋</td>\n",
       "      <td>高志一</td>\n",
       "      <td>侯放</td>\n",
       "      <td>邢闯</td>\n",
       "      <td>唐茂宁</td>\n",
       "      <td>刘琼</td>\n",
       "    </tr>\n",
       "    <tr>\n",
       "      <th>2017-12-05</th>\n",
       "      <td>梁森栋</td>\n",
       "      <td>王久珂</td>\n",
       "      <td>高志一</td>\n",
       "      <td>侯放</td>\n",
       "      <td>唐茂宁</td>\n",
       "      <td>刘琼</td>\n",
       "      <td>梁森栋</td>\n",
       "      <td>王久珂</td>\n",
       "      <td>高志一</td>\n",
       "      <td>侯放</td>\n",
       "      <td>唐茂宁</td>\n",
       "      <td>刘琼</td>\n",
       "    </tr>\n",
       "  </tbody>\n",
       "</table>\n",
       "</div>"
      ],
      "text/plain": [
       "            气候室                          预警室                        \n",
       "           风暴潮组  海浪组            海冰组     风暴潮组  海浪组            海冰组    \n",
       "             主班   主班   副班  警报班   主班  主班   主班   主班   副班  警报班   主班  主班\n",
       "0                                                                   \n",
       "2017-12-01  刘秋兴  韦锋余   徐瑞  王娟娟  唐茂宁  刘琼  刘秋兴  韦锋余   徐瑞  王娟娟  唐茂宁  刘琼\n",
       "2017-12-02  刘秋兴   邢闯  韦锋余   徐瑞  唐茂宁  刘琼  刘秋兴   邢闯  韦锋余   徐瑞  唐茂宁  刘琼\n",
       "2017-12-03  刘秋兴   侯放   邢闯  韦锋余  唐茂宁  刘琼  刘秋兴   侯放   邢闯  韦锋余  唐茂宁  刘琼\n",
       "2017-12-04  梁森栋  高志一   侯放   邢闯  唐茂宁  刘琼  梁森栋  高志一   侯放   邢闯  唐茂宁  刘琼\n",
       "2017-12-05  梁森栋  王久珂  高志一   侯放  唐茂宁  刘琼  梁森栋  王久珂  高志一   侯放  唐茂宁  刘琼"
      ]
     },
     "execution_count": 6,
     "metadata": {},
     "output_type": "execute_result"
    }
   ],
   "source": [
    "day_data=pd.read_pickle(read_path)\n",
    "day_data.head()"
   ]
  },
  {
   "cell_type": "markdown",
   "metadata": {},
   "source": [
    "### 2 读取某一日的数据（series）"
   ]
  },
  {
   "cell_type": "markdown",
   "metadata": {},
   "source": [
    "* 根据日期作为索引读取指定一日的数据"
   ]
  },
  {
   "cell_type": "code",
   "execution_count": 7,
   "metadata": {
    "collapsed": true
   },
   "outputs": [],
   "source": [
    "targetday_data=day_data.loc[datetime.datetime(2017,12,1)]"
   ]
  },
  {
   "cell_type": "code",
   "execution_count": 8,
   "metadata": {},
   "outputs": [
    {
     "data": {
      "text/plain": [
       "气候室  风暴潮组  主班     刘秋兴\n",
       "     海浪组   主班     韦锋余\n",
       "           副班      徐瑞\n",
       "           警报班    王娟娟\n",
       "     海冰组   主班     唐茂宁\n",
       "           主班      刘琼\n",
       "预警室  风暴潮组  主班     刘秋兴\n",
       "     海浪组   主班     韦锋余\n",
       "           副班      徐瑞\n",
       "           警报班    王娟娟\n",
       "     海冰组   主班     唐茂宁\n",
       "           主班      刘琼\n",
       "Name: 2017-12-01 00:00:00, dtype: object"
      ]
     },
     "execution_count": 8,
     "metadata": {},
     "output_type": "execute_result"
    }
   ],
   "source": [
    "targetday_data"
   ]
  },
  {
   "cell_type": "markdown",
   "metadata": {},
   "source": [
    "### 3 遍历获取series每一行的index以及value"
   ]
  },
  {
   "cell_type": "code",
   "execution_count": 9,
   "metadata": {},
   "outputs": [
    {
     "data": {
      "text/plain": [
       "'刘秋兴'"
      ]
     },
     "execution_count": 9,
     "metadata": {},
     "output_type": "execute_result"
    }
   ],
   "source": [
    "targetday_data[0]"
   ]
  },
  {
   "cell_type": "code",
   "execution_count": 10,
   "metadata": {},
   "outputs": [
    {
     "data": {
      "text/plain": [
       "<function str.index>"
      ]
     },
     "execution_count": 10,
     "metadata": {},
     "output_type": "execute_result"
    }
   ],
   "source": [
    "targetday_data[0].index"
   ]
  },
  {
   "cell_type": "code",
   "execution_count": 11,
   "metadata": {},
   "outputs": [
    {
     "data": {
      "text/plain": [
       "MultiIndex(levels=[['气候室', '预警室'], ['海冰组', '海浪组', '风暴潮组'], ['主班', '副班', '警报班']],\n",
       "           labels=[[0, 0, 0, 0, 0, 0, 1, 1, 1, 1, 1, 1], [2, 1, 1, 1, 0, 0, 2, 1, 1, 1, 0, 0], [0, 0, 1, 2, 0, 0, 0, 0, 1, 2, 0, 0]])"
      ]
     },
     "execution_count": 11,
     "metadata": {},
     "output_type": "execute_result"
    }
   ],
   "source": [
    "targetday_data.index"
   ]
  },
  {
   "cell_type": "code",
   "execution_count": 12,
   "metadata": {},
   "outputs": [
    {
     "data": {
      "text/plain": [
       "FrozenList([['气候室', '预警室'], ['海冰组', '海浪组', '风暴潮组'], ['主班', '副班', '警报班']])"
      ]
     },
     "execution_count": 12,
     "metadata": {},
     "output_type": "execute_result"
    }
   ],
   "source": [
    "targetday_data.index.levels"
   ]
  },
  {
   "cell_type": "code",
   "execution_count": 13,
   "metadata": {},
   "outputs": [
    {
     "data": {
      "text/plain": [
       "3"
      ]
     },
     "execution_count": 13,
     "metadata": {},
     "output_type": "execute_result"
    }
   ],
   "source": [
    "len(targetday_data.index.levels)"
   ]
  },
  {
   "cell_type": "markdown",
   "metadata": {},
   "source": [
    "#### 对于series获取指定一行数据的index，可使用.index[num]的方式"
   ]
  },
  {
   "cell_type": "code",
   "execution_count": 14,
   "metadata": {},
   "outputs": [
    {
     "data": {
      "text/plain": [
       "('气候室', '风暴潮组', '主班')"
      ]
     },
     "execution_count": 14,
     "metadata": {},
     "output_type": "execute_result"
    }
   ],
   "source": [
    "targetday_data.index[0]"
   ]
  },
  {
   "cell_type": "code",
   "execution_count": 15,
   "metadata": {},
   "outputs": [
    {
     "data": {
      "text/plain": [
       "('气候室', '海浪组', '主班')"
      ]
     },
     "execution_count": 15,
     "metadata": {},
     "output_type": "execute_result"
    }
   ],
   "source": [
    "targetday_data.index[1]"
   ]
  },
  {
   "cell_type": "code",
   "execution_count": 17,
   "metadata": {},
   "outputs": [
    {
     "data": {
      "text/plain": [
       "'气候室'"
      ]
     },
     "execution_count": 17,
     "metadata": {},
     "output_type": "execute_result"
    }
   ],
   "source": [
    "targetday_data.index[0][0]"
   ]
  },
  {
   "cell_type": "code",
   "execution_count": 25,
   "metadata": {},
   "outputs": [
    {
     "data": {
      "text/plain": [
       "12"
      ]
     },
     "execution_count": 25,
     "metadata": {},
     "output_type": "execute_result"
    }
   ],
   "source": [
    "len(targetday_data.values)"
   ]
  },
  {
   "cell_type": "code",
   "execution_count": 1,
   "metadata": {
    "collapsed": true
   },
   "outputs": [],
   "source": [
    "class Person(object):\n",
    "    def __init__(self,name,department,group,job):\n",
    "        self.name=name\n",
    "        self.department=department\n",
    "        self.group=group\n",
    "        self.job=job"
   ]
  },
  {
   "cell_type": "code",
   "execution_count": 19,
   "metadata": {
    "collapsed": true
   },
   "outputs": [],
   "source": [
    "list_person=[]"
   ]
  },
  {
   "cell_type": "code",
   "execution_count": 20,
   "metadata": {},
   "outputs": [
    {
     "name": "stdout",
     "output_type": "stream",
     "text": [
      "('气候室', '风暴潮组', '主班')\n",
      "刘秋兴\n",
      "0\n",
      "-----\n",
      "('气候室', '海浪组', '主班')\n",
      "韦锋余\n",
      "1\n",
      "-----\n",
      "('气候室', '海浪组', '副班')\n",
      "徐瑞\n",
      "2\n",
      "-----\n",
      "('气候室', '海浪组', '警报班')\n",
      "王娟娟\n",
      "3\n",
      "-----\n",
      "('气候室', '海冰组', '主班')\n",
      "唐茂宁\n",
      "4\n",
      "-----\n",
      "('气候室', '海冰组', '主班')\n",
      "刘琼\n",
      "5\n",
      "-----\n",
      "('预警室', '风暴潮组', '主班')\n",
      "刘秋兴\n",
      "6\n",
      "-----\n",
      "('预警室', '海浪组', '主班')\n",
      "韦锋余\n",
      "7\n",
      "-----\n",
      "('预警室', '海浪组', '副班')\n",
      "徐瑞\n",
      "8\n",
      "-----\n",
      "('预警室', '海浪组', '警报班')\n",
      "王娟娟\n",
      "9\n",
      "-----\n",
      "('预警室', '海冰组', '主班')\n",
      "唐茂宁\n",
      "10\n",
      "-----\n",
      "('预警室', '海冰组', '主班')\n",
      "刘琼\n",
      "11\n",
      "-----\n"
     ]
    }
   ],
   "source": [
    "index=0\n",
    "for temp in targetday_data:\n",
    "    temp_person=Person(temp,targetday_data.index[index][0],targetday_data.index[index][1],targetday_data.index[index][2])\n",
    "    list_person.append(temp_person)\n",
    "    print(targetday_data.index[index])\n",
    "    print(temp)\n",
    "    print(index)\n",
    "    index+=1\n",
    "    print(\"-----\")"
   ]
  },
  {
   "cell_type": "code",
   "execution_count": 21,
   "metadata": {},
   "outputs": [
    {
     "data": {
      "text/plain": [
       "[<__main__.Person at 0x21afc627ef0>,\n",
       " <__main__.Person at 0x21afc6291d0>,\n",
       " <__main__.Person at 0x21afc629400>,\n",
       " <__main__.Person at 0x21afc629630>,\n",
       " <__main__.Person at 0x21afc629860>,\n",
       " <__main__.Person at 0x21afc629a90>,\n",
       " <__main__.Person at 0x21afc629cc0>,\n",
       " <__main__.Person at 0x21afc629ef0>,\n",
       " <__main__.Person at 0x21afc62d128>,\n",
       " <__main__.Person at 0x21afc62d358>,\n",
       " <__main__.Person at 0x21afc62d518>,\n",
       " <__main__.Person at 0x21afc62d748>]"
      ]
     },
     "execution_count": 21,
     "metadata": {},
     "output_type": "execute_result"
    }
   ],
   "source": [
    "list_person"
   ]
  },
  {
   "cell_type": "markdown",
   "metadata": {},
   "source": [
    "#### 4 使用pickle进行序列化，并使用redis进行持久化保存"
   ]
  },
  {
   "cell_type": "markdown",
   "metadata": {},
   "source": [
    "##### 1、序列化"
   ]
  },
  {
   "cell_type": "code",
   "execution_count": 26,
   "metadata": {
    "collapsed": true
   },
   "outputs": [],
   "source": [
    "import pickle\n",
    "import redis"
   ]
  },
  {
   "cell_type": "code",
   "execution_count": 27,
   "metadata": {
    "collapsed": true
   },
   "outputs": [],
   "source": [
    "p1=pickle.dumps(list_person)"
   ]
  },
  {
   "cell_type": "code",
   "execution_count": 28,
   "metadata": {},
   "outputs": [
    {
     "data": {
      "text/plain": [
       "b'\\x80\\x03]q\\x00(c__main__\\nPerson\\nq\\x01)\\x81q\\x02}q\\x03(X\\x04\\x00\\x00\\x00nameq\\x04X\\t\\x00\\x00\\x00\\xe5\\x88\\x98\\xe7\\xa7\\x8b\\xe5\\x85\\xb4q\\x05X\\n\\x00\\x00\\x00departmentq\\x06X\\t\\x00\\x00\\x00\\xe6\\xb0\\x94\\xe5\\x80\\x99\\xe5\\xae\\xa4q\\x07X\\x05\\x00\\x00\\x00groupq\\x08X\\x0c\\x00\\x00\\x00\\xe9\\xa3\\x8e\\xe6\\x9a\\xb4\\xe6\\xbd\\xae\\xe7\\xbb\\x84q\\tX\\x03\\x00\\x00\\x00jobq\\nX\\x06\\x00\\x00\\x00\\xe4\\xb8\\xbb\\xe7\\x8f\\xadq\\x0bubh\\x01)\\x81q\\x0c}q\\r(h\\x04X\\t\\x00\\x00\\x00\\xe9\\x9f\\xa6\\xe9\\x94\\x8b\\xe4\\xbd\\x99q\\x0eh\\x06h\\x07h\\x08X\\t\\x00\\x00\\x00\\xe6\\xb5\\xb7\\xe6\\xb5\\xaa\\xe7\\xbb\\x84q\\x0fh\\nh\\x0bubh\\x01)\\x81q\\x10}q\\x11(h\\x04X\\x06\\x00\\x00\\x00\\xe5\\xbe\\x90\\xe7\\x91\\x9eq\\x12h\\x06h\\x07h\\x08h\\x0fh\\nX\\x06\\x00\\x00\\x00\\xe5\\x89\\xaf\\xe7\\x8f\\xadq\\x13ubh\\x01)\\x81q\\x14}q\\x15(h\\x04X\\t\\x00\\x00\\x00\\xe7\\x8e\\x8b\\xe5\\xa8\\x9f\\xe5\\xa8\\x9fq\\x16h\\x06h\\x07h\\x08h\\x0fh\\nX\\t\\x00\\x00\\x00\\xe8\\xad\\xa6\\xe6\\x8a\\xa5\\xe7\\x8f\\xadq\\x17ubh\\x01)\\x81q\\x18}q\\x19(h\\x04X\\t\\x00\\x00\\x00\\xe5\\x94\\x90\\xe8\\x8c\\x82\\xe5\\xae\\x81q\\x1ah\\x06h\\x07h\\x08X\\t\\x00\\x00\\x00\\xe6\\xb5\\xb7\\xe5\\x86\\xb0\\xe7\\xbb\\x84q\\x1bh\\nh\\x0bubh\\x01)\\x81q\\x1c}q\\x1d(h\\x04X\\x06\\x00\\x00\\x00\\xe5\\x88\\x98\\xe7\\x90\\xbcq\\x1eh\\x06h\\x07h\\x08h\\x1bh\\nh\\x0bubh\\x01)\\x81q\\x1f}q (h\\x04X\\t\\x00\\x00\\x00\\xe5\\x88\\x98\\xe7\\xa7\\x8b\\xe5\\x85\\xb4q!h\\x06X\\t\\x00\\x00\\x00\\xe9\\xa2\\x84\\xe8\\xad\\xa6\\xe5\\xae\\xa4q\"h\\x08h\\th\\nh\\x0bubh\\x01)\\x81q#}q$(h\\x04X\\t\\x00\\x00\\x00\\xe9\\x9f\\xa6\\xe9\\x94\\x8b\\xe4\\xbd\\x99q%h\\x06h\"h\\x08h\\x0fh\\nh\\x0bubh\\x01)\\x81q&}q\\'(h\\x04X\\x06\\x00\\x00\\x00\\xe5\\xbe\\x90\\xe7\\x91\\x9eq(h\\x06h\"h\\x08h\\x0fh\\nh\\x13ubh\\x01)\\x81q)}q*(h\\x04X\\t\\x00\\x00\\x00\\xe7\\x8e\\x8b\\xe5\\xa8\\x9f\\xe5\\xa8\\x9fq+h\\x06h\"h\\x08h\\x0fh\\nh\\x17ubh\\x01)\\x81q,}q-(h\\x04X\\t\\x00\\x00\\x00\\xe5\\x94\\x90\\xe8\\x8c\\x82\\xe5\\xae\\x81q.h\\x06h\"h\\x08h\\x1bh\\nh\\x0bubh\\x01)\\x81q/}q0(h\\x04X\\x06\\x00\\x00\\x00\\xe5\\x88\\x98\\xe7\\x90\\xbcq1h\\x06h\"h\\x08h\\x1bh\\nh\\x0bube.'"
      ]
     },
     "execution_count": 28,
     "metadata": {},
     "output_type": "execute_result"
    }
   ],
   "source": [
    "p1"
   ]
  },
  {
   "cell_type": "markdown",
   "metadata": {},
   "source": [
    "##### 2、将pickle存储至redis中"
   ]
  },
  {
   "cell_type": "code",
   "execution_count": 29,
   "metadata": {},
   "outputs": [
    {
     "data": {
      "text/plain": [
       "True"
      ]
     },
     "execution_count": 29,
     "metadata": {},
     "output_type": "execute_result"
    }
   ],
   "source": [
    "r=redis.Redis(host='127.0.0.1',port=6379)\n",
    "r.set('name',p1)"
   ]
  },
  {
   "cell_type": "markdown",
   "metadata": {},
   "source": [
    "##### 3、从redis中取出pickle"
   ]
  },
  {
   "cell_type": "code",
   "execution_count": 30,
   "metadata": {
    "collapsed": true
   },
   "outputs": [],
   "source": [
    "data_redis=r.get('name')"
   ]
  },
  {
   "cell_type": "code",
   "execution_count": 31,
   "metadata": {},
   "outputs": [
    {
     "data": {
      "text/plain": [
       "b'\\x80\\x03]q\\x00(c__main__\\nPerson\\nq\\x01)\\x81q\\x02}q\\x03(X\\x04\\x00\\x00\\x00nameq\\x04X\\t\\x00\\x00\\x00\\xe5\\x88\\x98\\xe7\\xa7\\x8b\\xe5\\x85\\xb4q\\x05X\\n\\x00\\x00\\x00departmentq\\x06X\\t\\x00\\x00\\x00\\xe6\\xb0\\x94\\xe5\\x80\\x99\\xe5\\xae\\xa4q\\x07X\\x05\\x00\\x00\\x00groupq\\x08X\\x0c\\x00\\x00\\x00\\xe9\\xa3\\x8e\\xe6\\x9a\\xb4\\xe6\\xbd\\xae\\xe7\\xbb\\x84q\\tX\\x03\\x00\\x00\\x00jobq\\nX\\x06\\x00\\x00\\x00\\xe4\\xb8\\xbb\\xe7\\x8f\\xadq\\x0bubh\\x01)\\x81q\\x0c}q\\r(h\\x04X\\t\\x00\\x00\\x00\\xe9\\x9f\\xa6\\xe9\\x94\\x8b\\xe4\\xbd\\x99q\\x0eh\\x06h\\x07h\\x08X\\t\\x00\\x00\\x00\\xe6\\xb5\\xb7\\xe6\\xb5\\xaa\\xe7\\xbb\\x84q\\x0fh\\nh\\x0bubh\\x01)\\x81q\\x10}q\\x11(h\\x04X\\x06\\x00\\x00\\x00\\xe5\\xbe\\x90\\xe7\\x91\\x9eq\\x12h\\x06h\\x07h\\x08h\\x0fh\\nX\\x06\\x00\\x00\\x00\\xe5\\x89\\xaf\\xe7\\x8f\\xadq\\x13ubh\\x01)\\x81q\\x14}q\\x15(h\\x04X\\t\\x00\\x00\\x00\\xe7\\x8e\\x8b\\xe5\\xa8\\x9f\\xe5\\xa8\\x9fq\\x16h\\x06h\\x07h\\x08h\\x0fh\\nX\\t\\x00\\x00\\x00\\xe8\\xad\\xa6\\xe6\\x8a\\xa5\\xe7\\x8f\\xadq\\x17ubh\\x01)\\x81q\\x18}q\\x19(h\\x04X\\t\\x00\\x00\\x00\\xe5\\x94\\x90\\xe8\\x8c\\x82\\xe5\\xae\\x81q\\x1ah\\x06h\\x07h\\x08X\\t\\x00\\x00\\x00\\xe6\\xb5\\xb7\\xe5\\x86\\xb0\\xe7\\xbb\\x84q\\x1bh\\nh\\x0bubh\\x01)\\x81q\\x1c}q\\x1d(h\\x04X\\x06\\x00\\x00\\x00\\xe5\\x88\\x98\\xe7\\x90\\xbcq\\x1eh\\x06h\\x07h\\x08h\\x1bh\\nh\\x0bubh\\x01)\\x81q\\x1f}q (h\\x04X\\t\\x00\\x00\\x00\\xe5\\x88\\x98\\xe7\\xa7\\x8b\\xe5\\x85\\xb4q!h\\x06X\\t\\x00\\x00\\x00\\xe9\\xa2\\x84\\xe8\\xad\\xa6\\xe5\\xae\\xa4q\"h\\x08h\\th\\nh\\x0bubh\\x01)\\x81q#}q$(h\\x04X\\t\\x00\\x00\\x00\\xe9\\x9f\\xa6\\xe9\\x94\\x8b\\xe4\\xbd\\x99q%h\\x06h\"h\\x08h\\x0fh\\nh\\x0bubh\\x01)\\x81q&}q\\'(h\\x04X\\x06\\x00\\x00\\x00\\xe5\\xbe\\x90\\xe7\\x91\\x9eq(h\\x06h\"h\\x08h\\x0fh\\nh\\x13ubh\\x01)\\x81q)}q*(h\\x04X\\t\\x00\\x00\\x00\\xe7\\x8e\\x8b\\xe5\\xa8\\x9f\\xe5\\xa8\\x9fq+h\\x06h\"h\\x08h\\x0fh\\nh\\x17ubh\\x01)\\x81q,}q-(h\\x04X\\t\\x00\\x00\\x00\\xe5\\x94\\x90\\xe8\\x8c\\x82\\xe5\\xae\\x81q.h\\x06h\"h\\x08h\\x1bh\\nh\\x0bubh\\x01)\\x81q/}q0(h\\x04X\\x06\\x00\\x00\\x00\\xe5\\x88\\x98\\xe7\\x90\\xbcq1h\\x06h\"h\\x08h\\x1bh\\nh\\x0bube.'"
      ]
     },
     "execution_count": 31,
     "metadata": {},
     "output_type": "execute_result"
    }
   ],
   "source": [
    "data_redis"
   ]
  },
  {
   "cell_type": "markdown",
   "metadata": {},
   "source": [
    "##### 4、使用pickle进行反序列化"
   ]
  },
  {
   "cell_type": "code",
   "execution_count": 33,
   "metadata": {
    "collapsed": true
   },
   "outputs": [],
   "source": [
    "p2=pickle.loads(data_redis)"
   ]
  },
  {
   "cell_type": "code",
   "execution_count": 34,
   "metadata": {},
   "outputs": [
    {
     "data": {
      "text/plain": [
       "[<__main__.Person at 0x21afc1d9be0>,\n",
       " <__main__.Person at 0x21afc1d9cc0>,\n",
       " <__main__.Person at 0x21afc1d9cf8>,\n",
       " <__main__.Person at 0x21afc1d9d30>,\n",
       " <__main__.Person at 0x21afc1d9d68>,\n",
       " <__main__.Person at 0x21afc1d9da0>,\n",
       " <__main__.Person at 0x21afc1d9dd8>,\n",
       " <__main__.Person at 0x21afc1d9e80>,\n",
       " <__main__.Person at 0x21afc1d9ef0>,\n",
       " <__main__.Person at 0x21afc1d9f60>,\n",
       " <__main__.Person at 0x21afc1d9f98>,\n",
       " <__main__.Person at 0x21afc44d048>]"
      ]
     },
     "execution_count": 34,
     "metadata": {},
     "output_type": "execute_result"
    }
   ],
   "source": [
    "p2"
   ]
  },
  {
   "cell_type": "code",
   "execution_count": null,
   "metadata": {
    "collapsed": true
   },
   "outputs": [],
   "source": []
  }
 ],
 "metadata": {
  "kernelspec": {
   "display_name": "Python 3",
   "language": "python",
   "name": "python3"
  },
  "language_info": {
   "codemirror_mode": {
    "name": "ipython",
    "version": 3
   },
   "file_extension": ".py",
   "mimetype": "text/x-python",
   "name": "python",
   "nbconvert_exporter": "python",
   "pygments_lexer": "ipython3",
   "version": "3.6.2"
  }
 },
 "nbformat": 4,
 "nbformat_minor": 2
}
