{
 "cells": [
  {
   "cell_type": "code",
   "execution_count": 1,
   "metadata": {
    "collapsed": true
   },
   "outputs": [],
   "source": [
    "import xlrd\n",
    "import os\n",
    "from pandas import Series,DataFrame\n",
    "import numpy as np\n",
    "import pandas as pd\n",
    "import datetime"
   ]
  },
  {
   "cell_type": "markdown",
   "metadata": {},
   "source": [
    "### 1、读取指定的pickle文件"
   ]
  },
  {
   "cell_type": "markdown",
   "metadata": {},
   "source": [
    "* 读取路径"
   ]
  },
  {
   "cell_type": "code",
   "execution_count": 8,
   "metadata": {
    "collapsed": true
   },
   "outputs": [],
   "source": [
    "read_path=r'result/2018/MERAGE_1801.pk1'"
   ]
  },
  {
   "cell_type": "code",
   "execution_count": 10,
   "metadata": {},
   "outputs": [
    {
     "data": {
      "text/html": [
       "<div>\n",
       "<style>\n",
       "    .dataframe thead tr:only-child th {\n",
       "        text-align: right;\n",
       "    }\n",
       "\n",
       "    .dataframe thead th {\n",
       "        text-align: left;\n",
       "    }\n",
       "\n",
       "    .dataframe tbody tr th {\n",
       "        vertical-align: top;\n",
       "    }\n",
       "</style>\n",
       "<table border=\"1\" class=\"dataframe\">\n",
       "  <thead>\n",
       "    <tr>\n",
       "      <th></th>\n",
       "      <th colspan=\"6\" halign=\"left\">气候室</th>\n",
       "      <th colspan=\"6\" halign=\"left\">预警室</th>\n",
       "    </tr>\n",
       "    <tr>\n",
       "      <th></th>\n",
       "      <th>风暴潮组</th>\n",
       "      <th colspan=\"3\" halign=\"left\">海浪组</th>\n",
       "      <th colspan=\"2\" halign=\"left\">海冰组</th>\n",
       "      <th>风暴潮组</th>\n",
       "      <th colspan=\"3\" halign=\"left\">海浪组</th>\n",
       "      <th colspan=\"2\" halign=\"left\">海冰组</th>\n",
       "    </tr>\n",
       "    <tr>\n",
       "      <th></th>\n",
       "      <th>主班</th>\n",
       "      <th>主班</th>\n",
       "      <th>副班</th>\n",
       "      <th>警报班</th>\n",
       "      <th>主班</th>\n",
       "      <th>主班</th>\n",
       "      <th>主班</th>\n",
       "      <th>主班</th>\n",
       "      <th>副班</th>\n",
       "      <th>警报班</th>\n",
       "      <th>主班</th>\n",
       "      <th>主班</th>\n",
       "    </tr>\n",
       "    <tr>\n",
       "      <th>0</th>\n",
       "      <th></th>\n",
       "      <th></th>\n",
       "      <th></th>\n",
       "      <th></th>\n",
       "      <th></th>\n",
       "      <th></th>\n",
       "      <th></th>\n",
       "      <th></th>\n",
       "      <th></th>\n",
       "      <th></th>\n",
       "      <th></th>\n",
       "      <th></th>\n",
       "    </tr>\n",
       "  </thead>\n",
       "  <tbody>\n",
       "    <tr>\n",
       "      <th>2017-12-01</th>\n",
       "      <td>刘秋兴</td>\n",
       "      <td>韦锋余</td>\n",
       "      <td>徐瑞</td>\n",
       "      <td>王娟娟</td>\n",
       "      <td>唐茂宁</td>\n",
       "      <td>刘琼</td>\n",
       "      <td>刘秋兴</td>\n",
       "      <td>韦锋余</td>\n",
       "      <td>徐瑞</td>\n",
       "      <td>王娟娟</td>\n",
       "      <td>唐茂宁</td>\n",
       "      <td>刘琼</td>\n",
       "    </tr>\n",
       "    <tr>\n",
       "      <th>2017-12-02</th>\n",
       "      <td>刘秋兴</td>\n",
       "      <td>邢闯</td>\n",
       "      <td>韦锋余</td>\n",
       "      <td>徐瑞</td>\n",
       "      <td>唐茂宁</td>\n",
       "      <td>刘琼</td>\n",
       "      <td>刘秋兴</td>\n",
       "      <td>邢闯</td>\n",
       "      <td>韦锋余</td>\n",
       "      <td>徐瑞</td>\n",
       "      <td>唐茂宁</td>\n",
       "      <td>刘琼</td>\n",
       "    </tr>\n",
       "    <tr>\n",
       "      <th>2017-12-03</th>\n",
       "      <td>刘秋兴</td>\n",
       "      <td>侯放</td>\n",
       "      <td>邢闯</td>\n",
       "      <td>韦锋余</td>\n",
       "      <td>唐茂宁</td>\n",
       "      <td>刘琼</td>\n",
       "      <td>刘秋兴</td>\n",
       "      <td>侯放</td>\n",
       "      <td>邢闯</td>\n",
       "      <td>韦锋余</td>\n",
       "      <td>唐茂宁</td>\n",
       "      <td>刘琼</td>\n",
       "    </tr>\n",
       "    <tr>\n",
       "      <th>2017-12-04</th>\n",
       "      <td>梁森栋</td>\n",
       "      <td>高志一</td>\n",
       "      <td>侯放</td>\n",
       "      <td>邢闯</td>\n",
       "      <td>唐茂宁</td>\n",
       "      <td>刘琼</td>\n",
       "      <td>梁森栋</td>\n",
       "      <td>高志一</td>\n",
       "      <td>侯放</td>\n",
       "      <td>邢闯</td>\n",
       "      <td>唐茂宁</td>\n",
       "      <td>刘琼</td>\n",
       "    </tr>\n",
       "    <tr>\n",
       "      <th>2017-12-05</th>\n",
       "      <td>梁森栋</td>\n",
       "      <td>王久珂</td>\n",
       "      <td>高志一</td>\n",
       "      <td>侯放</td>\n",
       "      <td>唐茂宁</td>\n",
       "      <td>刘琼</td>\n",
       "      <td>梁森栋</td>\n",
       "      <td>王久珂</td>\n",
       "      <td>高志一</td>\n",
       "      <td>侯放</td>\n",
       "      <td>唐茂宁</td>\n",
       "      <td>刘琼</td>\n",
       "    </tr>\n",
       "  </tbody>\n",
       "</table>\n",
       "</div>"
      ],
      "text/plain": [
       "            气候室                          预警室                        \n",
       "           风暴潮组  海浪组            海冰组     风暴潮组  海浪组            海冰组    \n",
       "             主班   主班   副班  警报班   主班  主班   主班   主班   副班  警报班   主班  主班\n",
       "0                                                                   \n",
       "2017-12-01  刘秋兴  韦锋余   徐瑞  王娟娟  唐茂宁  刘琼  刘秋兴  韦锋余   徐瑞  王娟娟  唐茂宁  刘琼\n",
       "2017-12-02  刘秋兴   邢闯  韦锋余   徐瑞  唐茂宁  刘琼  刘秋兴   邢闯  韦锋余   徐瑞  唐茂宁  刘琼\n",
       "2017-12-03  刘秋兴   侯放   邢闯  韦锋余  唐茂宁  刘琼  刘秋兴   侯放   邢闯  韦锋余  唐茂宁  刘琼\n",
       "2017-12-04  梁森栋  高志一   侯放   邢闯  唐茂宁  刘琼  梁森栋  高志一   侯放   邢闯  唐茂宁  刘琼\n",
       "2017-12-05  梁森栋  王久珂  高志一   侯放  唐茂宁  刘琼  梁森栋  王久珂  高志一   侯放  唐茂宁  刘琼"
      ]
     },
     "execution_count": 10,
     "metadata": {},
     "output_type": "execute_result"
    }
   ],
   "source": [
    "day_data=pd.read_pickle(read_path)\n",
    "day_data.head()"
   ]
  },
  {
   "cell_type": "markdown",
   "metadata": {},
   "source": [
    "### 2 读取某一日的数据（series）"
   ]
  },
  {
   "cell_type": "markdown",
   "metadata": {},
   "source": [
    "* 根据日期作为索引读取指定一日的数据"
   ]
  },
  {
   "cell_type": "code",
   "execution_count": 12,
   "metadata": {},
   "outputs": [],
   "source": [
    "targetday_data=day_data.loc[datetime.datetime(2017,12,1)]"
   ]
  },
  {
   "cell_type": "code",
   "execution_count": 13,
   "metadata": {},
   "outputs": [
    {
     "data": {
      "text/plain": [
       "气候室  风暴潮组  主班     刘秋兴\n",
       "     海浪组   主班     韦锋余\n",
       "           副班      徐瑞\n",
       "           警报班    王娟娟\n",
       "     海冰组   主班     唐茂宁\n",
       "           主班      刘琼\n",
       "预警室  风暴潮组  主班     刘秋兴\n",
       "     海浪组   主班     韦锋余\n",
       "           副班      徐瑞\n",
       "           警报班    王娟娟\n",
       "     海冰组   主班     唐茂宁\n",
       "           主班      刘琼\n",
       "Name: 2017-12-01 00:00:00, dtype: object"
      ]
     },
     "execution_count": 13,
     "metadata": {},
     "output_type": "execute_result"
    }
   ],
   "source": [
    "targetday_data"
   ]
  },
  {
   "cell_type": "markdown",
   "metadata": {},
   "source": [
    "### 3 遍历获取series每一行的index以及value"
   ]
  },
  {
   "cell_type": "code",
   "execution_count": 14,
   "metadata": {},
   "outputs": [
    {
     "data": {
      "text/plain": [
       "'刘秋兴'"
      ]
     },
     "execution_count": 14,
     "metadata": {},
     "output_type": "execute_result"
    }
   ],
   "source": [
    "targetday_data[0]"
   ]
  },
  {
   "cell_type": "code",
   "execution_count": 15,
   "metadata": {},
   "outputs": [
    {
     "data": {
      "text/plain": [
       "<function str.index>"
      ]
     },
     "execution_count": 15,
     "metadata": {},
     "output_type": "execute_result"
    }
   ],
   "source": [
    "targetday_data[0].index"
   ]
  },
  {
   "cell_type": "code",
   "execution_count": 16,
   "metadata": {},
   "outputs": [
    {
     "data": {
      "text/plain": [
       "MultiIndex(levels=[['气候室', '预警室'], ['海冰组', '海浪组', '风暴潮组'], ['主班', '副班', '警报班']],\n",
       "           labels=[[0, 0, 0, 0, 0, 0, 1, 1, 1, 1, 1, 1], [2, 1, 1, 1, 0, 0, 2, 1, 1, 1, 0, 0], [0, 0, 1, 2, 0, 0, 0, 0, 1, 2, 0, 0]])"
      ]
     },
     "execution_count": 16,
     "metadata": {},
     "output_type": "execute_result"
    }
   ],
   "source": [
    "targetday_data.index"
   ]
  },
  {
   "cell_type": "code",
   "execution_count": 20,
   "metadata": {},
   "outputs": [
    {
     "data": {
      "text/plain": [
       "FrozenList([['气候室', '预警室'], ['海冰组', '海浪组', '风暴潮组'], ['主班', '副班', '警报班']])"
      ]
     },
     "execution_count": 20,
     "metadata": {},
     "output_type": "execute_result"
    }
   ],
   "source": [
    "targetday_data.index.levels"
   ]
  },
  {
   "cell_type": "code",
   "execution_count": 21,
   "metadata": {},
   "outputs": [
    {
     "data": {
      "text/plain": [
       "3"
      ]
     },
     "execution_count": 21,
     "metadata": {},
     "output_type": "execute_result"
    }
   ],
   "source": [
    "len(targetday_data.index.levels)"
   ]
  },
  {
   "cell_type": "markdown",
   "metadata": {},
   "source": [
    "#### 对于series获取指定一行数据的index，可使用.index[num]的方式"
   ]
  },
  {
   "cell_type": "code",
   "execution_count": 22,
   "metadata": {},
   "outputs": [
    {
     "data": {
      "text/plain": [
       "('气候室', '风暴潮组', '主班')"
      ]
     },
     "execution_count": 22,
     "metadata": {},
     "output_type": "execute_result"
    }
   ],
   "source": [
    "targetday_data.index[0]"
   ]
  },
  {
   "cell_type": "code",
   "execution_count": 23,
   "metadata": {},
   "outputs": [
    {
     "data": {
      "text/plain": [
       "('气候室', '海浪组', '主班')"
      ]
     },
     "execution_count": 23,
     "metadata": {},
     "output_type": "execute_result"
    }
   ],
   "source": [
    "targetday_data.index[1]"
   ]
  },
  {
   "cell_type": "code",
   "execution_count": 25,
   "metadata": {},
   "outputs": [
    {
     "data": {
      "text/plain": [
       "12"
      ]
     },
     "execution_count": 25,
     "metadata": {},
     "output_type": "execute_result"
    }
   ],
   "source": [
    "len(targetday_data.values)"
   ]
  },
  {
   "cell_type": "code",
   "execution_count": 28,
   "metadata": {},
   "outputs": [
    {
     "name": "stdout",
     "output_type": "stream",
     "text": [
      "('气候室', '风暴潮组', '主班')\n",
      "刘秋兴\n",
      "0\n",
      "-----\n",
      "('气候室', '海浪组', '主班')\n",
      "韦锋余\n",
      "1\n",
      "-----\n",
      "('气候室', '海浪组', '副班')\n",
      "徐瑞\n",
      "2\n",
      "-----\n",
      "('气候室', '海浪组', '警报班')\n",
      "王娟娟\n",
      "3\n",
      "-----\n",
      "('气候室', '海冰组', '主班')\n",
      "唐茂宁\n",
      "4\n",
      "-----\n",
      "('气候室', '海冰组', '主班')\n",
      "刘琼\n",
      "5\n",
      "-----\n",
      "('预警室', '风暴潮组', '主班')\n",
      "刘秋兴\n",
      "6\n",
      "-----\n",
      "('预警室', '海浪组', '主班')\n",
      "韦锋余\n",
      "7\n",
      "-----\n",
      "('预警室', '海浪组', '副班')\n",
      "徐瑞\n",
      "8\n",
      "-----\n",
      "('预警室', '海浪组', '警报班')\n",
      "王娟娟\n",
      "9\n",
      "-----\n",
      "('预警室', '海冰组', '主班')\n",
      "唐茂宁\n",
      "10\n",
      "-----\n",
      "('预警室', '海冰组', '主班')\n",
      "刘琼\n",
      "11\n",
      "-----\n"
     ]
    }
   ],
   "source": [
    "index=0\n",
    "for temp in targetday_data:\n",
    "    print(targetday_data.index[index])\n",
    "    print(temp)\n",
    "    print(index)\n",
    "    index+=1\n",
    "    print(\"-----\")"
   ]
  },
  {
   "cell_type": "code",
   "execution_count": null,
   "metadata": {
    "collapsed": true
   },
   "outputs": [],
   "source": []
  }
 ],
 "metadata": {
  "kernelspec": {
   "display_name": "Python 3",
   "language": "python",
   "name": "python3"
  },
  "language_info": {
   "codemirror_mode": {
    "name": "ipython",
    "version": 3
   },
   "file_extension": ".py",
   "mimetype": "text/x-python",
   "name": "python",
   "nbconvert_exporter": "python",
   "pygments_lexer": "ipython3",
   "version": "3.6.3"
  }
 },
 "nbformat": 4,
 "nbformat_minor": 2
}
