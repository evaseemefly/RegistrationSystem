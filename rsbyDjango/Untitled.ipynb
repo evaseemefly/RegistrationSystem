{
 "cells": [
  {
   "cell_type": "code",
   "execution_count": 11,
   "metadata": {},
   "outputs": [],
   "source": [
    "import redis\n",
    "import pickle\n",
    "from data import model\n",
    "# from Ext.data import model"
   ]
  },
  {
   "cell_type": "code",
   "execution_count": 12,
   "metadata": {
    "collapsed": true
   },
   "outputs": [],
   "source": [
    "r=redis.Redis(host='127.0.0.1',port=6379)"
   ]
  },
  {
   "cell_type": "code",
   "execution_count": 13,
   "metadata": {},
   "outputs": [
    {
     "data": {
      "text/plain": [
       "b'\\x80\\x03]q\\x00(cdata.model\\nPerson\\nq\\x01)\\x81q\\x02}q\\x03(X\\x04\\x00\\x00\\x00nameq\\x04X\\t\\x00\\x00\\x00\\xe5\\x82\\x85\\xe8\\xb5\\x90\\xe7\\xa6\\x8fq\\x05X\\n\\x00\\x00\\x00departmentq\\x06X\\t\\x00\\x00\\x00\\xe6\\xb0\\x94\\xe5\\x80\\x99\\xe5\\xae\\xa4q\\x07X\\x05\\x00\\x00\\x00groupq\\x08X\\x0c\\x00\\x00\\x00\\xe9\\xa3\\x8e\\xe6\\x9a\\xb4\\xe6\\xbd\\xae\\xe7\\xbb\\x84q\\tX\\x03\\x00\\x00\\x00jobq\\nX\\x06\\x00\\x00\\x00\\xe4\\xb8\\xbb\\xe7\\x8f\\xadq\\x0bubh\\x01)\\x81q\\x0c}q\\r(h\\x04X\\t\\x00\\x00\\x00\\xe7\\x8e\\x8b\\xe4\\xb9\\x85\\xe7\\x8f\\x82q\\x0eh\\x06h\\x07h\\x08X\\t\\x00\\x00\\x00\\xe6\\xb5\\xb7\\xe6\\xb5\\xaa\\xe7\\xbb\\x84q\\x0fh\\nh\\x0bubh\\x01)\\x81q\\x10}q\\x11(h\\x04X\\t\\x00\\x00\\x00\\xe9\\xab\\x98\\xe5\\xbf\\x97\\xe4\\xb8\\x80q\\x12h\\x06h\\x07h\\x08h\\x0fh\\nX\\x06\\x00\\x00\\x00\\xe5\\x89\\xaf\\xe7\\x8f\\xadq\\x13ubh\\x01)\\x81q\\x14}q\\x15(h\\x04X\\t\\x00\\x00\\x00\\xe9\\x9f\\xa6\\xe9\\x94\\x8b\\xe4\\xbd\\x99q\\x16h\\x06h\\x07h\\x08h\\x0fh\\nX\\t\\x00\\x00\\x00\\xe8\\xad\\xa6\\xe6\\x8a\\xa5\\xe7\\x8f\\xadq\\x17ubh\\x01)\\x81q\\x18}q\\x19(h\\x04X\\x06\\x00\\x00\\x00\\xe8\\xb5\\xb5\\xe5\\x80\\xa9q\\x1ah\\x06h\\x07h\\x08X\\t\\x00\\x00\\x00\\xe6\\xb5\\xb7\\xe5\\x86\\xb0\\xe7\\xbb\\x84q\\x1bh\\nh\\x0bubh\\x01)\\x81q\\x1c}q\\x1d(h\\x04X\\x06\\x00\\x00\\x00\\xe5\\x88\\x98\\xe7\\x85\\x9cq\\x1eh\\x06h\\x07h\\x08h\\x1bh\\nh\\x0bubh\\x01)\\x81q\\x1f}q (h\\x04X\\t\\x00\\x00\\x00\\xe5\\x82\\x85\\xe8\\xb5\\x90\\xe7\\xa6\\x8fq!h\\x06X\\t\\x00\\x00\\x00\\xe9\\xa2\\x84\\xe8\\xad\\xa6\\xe5\\xae\\xa4q\"h\\x08h\\th\\nh\\x0bubh\\x01)\\x81q#}q$(h\\x04X\\t\\x00\\x00\\x00\\xe7\\x8e\\x8b\\xe4\\xb9\\x85\\xe7\\x8f\\x82q%h\\x06h\"h\\x08h\\x0fh\\nh\\x0bubh\\x01)\\x81q&}q\\'(h\\x04X\\t\\x00\\x00\\x00\\xe9\\xab\\x98\\xe5\\xbf\\x97\\xe4\\xb8\\x80q(h\\x06h\"h\\x08h\\x0fh\\nh\\x13ubh\\x01)\\x81q)}q*(h\\x04X\\t\\x00\\x00\\x00\\xe9\\x9f\\xa6\\xe9\\x94\\x8b\\xe4\\xbd\\x99q+h\\x06h\"h\\x08h\\x0fh\\nh\\x17ubh\\x01)\\x81q,}q-(h\\x04X\\x06\\x00\\x00\\x00\\xe8\\xb5\\xb5\\xe5\\x80\\xa9q.h\\x06h\"h\\x08h\\x1bh\\nh\\x0bubh\\x01)\\x81q/}q0(h\\x04X\\x06\\x00\\x00\\x00\\xe5\\x88\\x98\\xe7\\x85\\x9cq1h\\x06h\"h\\x08h\\x1bh\\nh\\x0bube.'"
      ]
     },
     "execution_count": 13,
     "metadata": {},
     "output_type": "execute_result"
    }
   ],
   "source": [
    "data_redis=r.get('dailydata')\n",
    "data_redis"
   ]
  },
  {
   "cell_type": "code",
   "execution_count": 14,
   "metadata": {},
   "outputs": [
    {
     "data": {
      "text/plain": [
       "[<data.model.Person at 0x257d706d7b8>,\n",
       " <data.model.Person at 0x257d706db70>,\n",
       " <data.model.Person at 0x257d706dba8>,\n",
       " <data.model.Person at 0x257d706dbe0>,\n",
       " <data.model.Person at 0x257d706dc18>,\n",
       " <data.model.Person at 0x257d706dc50>,\n",
       " <data.model.Person at 0x257d706dc88>,\n",
       " <data.model.Person at 0x257d706dcc0>,\n",
       " <data.model.Person at 0x257d706dcf8>,\n",
       " <data.model.Person at 0x257d706dd30>,\n",
       " <data.model.Person at 0x257d706dd68>,\n",
       " <data.model.Person at 0x257d706dda0>]"
      ]
     },
     "execution_count": 14,
     "metadata": {},
     "output_type": "execute_result"
    }
   ],
   "source": [
    "pickle.loads(data_redis)"
   ]
  },
  {
   "cell_type": "code",
   "execution_count": null,
   "metadata": {
    "collapsed": true
   },
   "outputs": [],
   "source": []
  }
 ],
 "metadata": {
  "kernelspec": {
   "display_name": "Python 3",
   "language": "python",
   "name": "python3"
  },
  "language_info": {
   "codemirror_mode": {
    "name": "ipython",
    "version": 3
   },
   "file_extension": ".py",
   "mimetype": "text/x-python",
   "name": "python",
   "nbconvert_exporter": "python",
   "pygments_lexer": "ipython3",
   "version": "3.6.2"
  }
 },
 "nbformat": 4,
 "nbformat_minor": 2
}
